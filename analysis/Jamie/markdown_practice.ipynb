{
 "cells": [
  {
   "cell_type": "markdown",
   "metadata": {},
   "source": [
    "# Markdown Practice\n",
    "____"
   ]
  },
  {
   "cell_type": "markdown",
   "metadata": {},
   "source": [
    "Hi everyone, if you are reading this, then you are about to know some ***secret*** about me. So, let's list them one by one:\n",
    "\n",
    "- I am **vegan** so I am not a fan of meat-eaters. But that does not mean I hate you or I am aggressive against you. It's much the opposite.\n",
    "- I was not a compsci student at first. Instead, I am a Biology student. *Suprised?*\n",
    "- I am a computer freak. Trust me. If you leave yours to me, don't come back hoping it's the same. My friends often say:\n",
    "> Don't let Jamie touch your computer. Or else, it will turn into something else.\n",
    "- My favorite line of code:\n",
    "```python\n",
    "print(\"Hello World!\")\n",
    "```\n",
    "\n",
    "because it is where things began.\n",
    "\n",
    "- My favorite math equation: $2^x = 2x$\n",
    "- My personal repo is [here](https://github.com/thuanGIT). Please come see my beloved projects!"
   ]
  },
  {
   "cell_type": "markdown",
   "metadata": {},
   "source": []
  }
 ],
 "metadata": {
  "kernelspec": {
   "display_name": "Python 3",
   "language": "python",
   "name": "python3"
  },
  "language_info": {
   "codemirror_mode": {
    "name": "ipython",
    "version": 3
   },
   "file_extension": ".py",
   "mimetype": "text/x-python",
   "name": "python",
   "nbconvert_exporter": "python",
   "pygments_lexer": "ipython3",
   "version": "3.8.5"
  }
 },
 "nbformat": 4,
 "nbformat_minor": 4
}
