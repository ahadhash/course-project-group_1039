{
 "metadata": {
  "language_info": {
   "codemirror_mode": {
    "name": "ipython",
    "version": 3
   },
   "file_extension": ".py",
   "mimetype": "text/x-python",
   "name": "python",
   "nbconvert_exporter": "python",
   "pygments_lexer": "ipython3",
   "version": "3.8.5-final"
  },
  "orig_nbformat": 2,
  "kernelspec": {
   "name": "python3",
   "display_name": "Python 3",
   "language": "python"
  }
 },
 "nbformat": 4,
 "nbformat_minor": 2,
 "cells": [
  {
   "cell_type": "code",
   "execution_count": 6,
   "metadata": {},
   "outputs": [
    {
     "output_type": "execute_result",
     "data": {
      "text/plain": [
       "     id terrestrial_date   sol   ls    month  min_temp  max_temp  pressure  \\\n",
       "0  1895       2018-02-27  1977  135  Month 5     -77.0     -10.0     727.0   \n",
       "1  1893       2018-02-26  1976  135  Month 5     -77.0     -10.0     728.0   \n",
       "2  1894       2018-02-25  1975  134  Month 5     -76.0     -16.0     729.0   \n",
       "3  1892       2018-02-24  1974  134  Month 5     -77.0     -13.0     729.0   \n",
       "4  1889       2018-02-23  1973  133  Month 5     -78.0     -18.0     730.0   \n",
       "5  1891       2018-02-22  1972  133  Month 5     -78.0     -14.0     730.0   \n",
       "6  1890       2018-02-21  1971  132  Month 5     -78.0     -13.0     731.0   \n",
       "7  1888       2018-02-20  1970  132  Month 5     -77.0     -16.0     731.0   \n",
       "8  1887       2018-02-19  1969  131  Month 5     -76.0     -16.0     732.0   \n",
       "9  1886       2018-02-18  1968  131  Month 5     -76.0     -19.0     732.0   \n",
       "\n",
       "   wind_speed atmo_opacity  \n",
       "0         NaN        Sunny  \n",
       "1         NaN        Sunny  \n",
       "2         NaN        Sunny  \n",
       "3         NaN        Sunny  \n",
       "4         NaN        Sunny  \n",
       "5         NaN        Sunny  \n",
       "6         NaN        Sunny  \n",
       "7         NaN        Sunny  \n",
       "8         NaN        Sunny  \n",
       "9         NaN        Sunny  "
      ],
      "text/html": "<div>\n<style scoped>\n    .dataframe tbody tr th:only-of-type {\n        vertical-align: middle;\n    }\n\n    .dataframe tbody tr th {\n        vertical-align: top;\n    }\n\n    .dataframe thead th {\n        text-align: right;\n    }\n</style>\n<table border=\"1\" class=\"dataframe\">\n  <thead>\n    <tr style=\"text-align: right;\">\n      <th></th>\n      <th>id</th>\n      <th>terrestrial_date</th>\n      <th>sol</th>\n      <th>ls</th>\n      <th>month</th>\n      <th>min_temp</th>\n      <th>max_temp</th>\n      <th>pressure</th>\n      <th>wind_speed</th>\n      <th>atmo_opacity</th>\n    </tr>\n  </thead>\n  <tbody>\n    <tr>\n      <th>0</th>\n      <td>1895</td>\n      <td>2018-02-27</td>\n      <td>1977</td>\n      <td>135</td>\n      <td>Month 5</td>\n      <td>-77.0</td>\n      <td>-10.0</td>\n      <td>727.0</td>\n      <td>NaN</td>\n      <td>Sunny</td>\n    </tr>\n    <tr>\n      <th>1</th>\n      <td>1893</td>\n      <td>2018-02-26</td>\n      <td>1976</td>\n      <td>135</td>\n      <td>Month 5</td>\n      <td>-77.0</td>\n      <td>-10.0</td>\n      <td>728.0</td>\n      <td>NaN</td>\n      <td>Sunny</td>\n    </tr>\n    <tr>\n      <th>2</th>\n      <td>1894</td>\n      <td>2018-02-25</td>\n      <td>1975</td>\n      <td>134</td>\n      <td>Month 5</td>\n      <td>-76.0</td>\n      <td>-16.0</td>\n      <td>729.0</td>\n      <td>NaN</td>\n      <td>Sunny</td>\n    </tr>\n    <tr>\n      <th>3</th>\n      <td>1892</td>\n      <td>2018-02-24</td>\n      <td>1974</td>\n      <td>134</td>\n      <td>Month 5</td>\n      <td>-77.0</td>\n      <td>-13.0</td>\n      <td>729.0</td>\n      <td>NaN</td>\n      <td>Sunny</td>\n    </tr>\n    <tr>\n      <th>4</th>\n      <td>1889</td>\n      <td>2018-02-23</td>\n      <td>1973</td>\n      <td>133</td>\n      <td>Month 5</td>\n      <td>-78.0</td>\n      <td>-18.0</td>\n      <td>730.0</td>\n      <td>NaN</td>\n      <td>Sunny</td>\n    </tr>\n    <tr>\n      <th>5</th>\n      <td>1891</td>\n      <td>2018-02-22</td>\n      <td>1972</td>\n      <td>133</td>\n      <td>Month 5</td>\n      <td>-78.0</td>\n      <td>-14.0</td>\n      <td>730.0</td>\n      <td>NaN</td>\n      <td>Sunny</td>\n    </tr>\n    <tr>\n      <th>6</th>\n      <td>1890</td>\n      <td>2018-02-21</td>\n      <td>1971</td>\n      <td>132</td>\n      <td>Month 5</td>\n      <td>-78.0</td>\n      <td>-13.0</td>\n      <td>731.0</td>\n      <td>NaN</td>\n      <td>Sunny</td>\n    </tr>\n    <tr>\n      <th>7</th>\n      <td>1888</td>\n      <td>2018-02-20</td>\n      <td>1970</td>\n      <td>132</td>\n      <td>Month 5</td>\n      <td>-77.0</td>\n      <td>-16.0</td>\n      <td>731.0</td>\n      <td>NaN</td>\n      <td>Sunny</td>\n    </tr>\n    <tr>\n      <th>8</th>\n      <td>1887</td>\n      <td>2018-02-19</td>\n      <td>1969</td>\n      <td>131</td>\n      <td>Month 5</td>\n      <td>-76.0</td>\n      <td>-16.0</td>\n      <td>732.0</td>\n      <td>NaN</td>\n      <td>Sunny</td>\n    </tr>\n    <tr>\n      <th>9</th>\n      <td>1886</td>\n      <td>2018-02-18</td>\n      <td>1968</td>\n      <td>131</td>\n      <td>Month 5</td>\n      <td>-76.0</td>\n      <td>-19.0</td>\n      <td>732.0</td>\n      <td>NaN</td>\n      <td>Sunny</td>\n    </tr>\n  </tbody>\n</table>\n</div>"
     },
     "metadata": {},
     "execution_count": 6
    }
   ],
   "source": [
    "import pandas as pd\n",
    "\n",
    "# Loading raw data\n",
    "raw_data = pd.read_csv('../../data/raw/mars-weather.csv', delimiter=',')\n",
    "\n",
    "# Display first 10 rows\n",
    "raw_data.head(10)"
   ]
  },
  {
   "cell_type": "code",
   "execution_count": null,
   "metadata": {},
   "outputs": [],
   "source": []
  }
 ]
}