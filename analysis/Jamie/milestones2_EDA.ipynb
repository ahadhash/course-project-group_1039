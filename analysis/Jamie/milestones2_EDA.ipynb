{
 "cells": [
  {
   "cell_type": "markdown",
   "metadata": {},
   "source": [
    "# Individual EDA\n",
    "\n",
    "- Separate the states into 4 regions: Western, southern, eastern and northern.\n",
    "- Filter data based on assigned regions and explore with support from visualization\n",
    "- North East and South is the main focus in this EDA.\n",
    "\n",
    "___"
   ]
  },
  {
   "cell_type": "markdown",
   "metadata": {},
   "source": [
    "## Data Filtering"
   ]
  },
  {
   "cell_type": "code",
   "execution_count": 1,
   "metadata": {},
   "outputs": [],
   "source": [
    "import pandas as pd\n",
    "import seaborn as sns\n",
    "import numpy as np\n",
    "import matplotlib.pyplot as plt\n",
    "from scripts import project_functions as pf"
   ]
  },
  {
   "cell_type": "code",
   "execution_count": 2,
   "metadata": {},
   "outputs": [],
   "source": [
    "# Load 4 parts of raw data on State Names\n",
    "state_df = pf.load_and_process_many(\"../../data/raw/state\")\n",
    "\n",
    "# Note that the project_fuctions module includes list of abbreviations for states separated in regions\n",
    "# Let's slice out only the north east and south\n",
    "n_df = state_df.loc[state_df[\"State\"].isin(pf.NORTH_EAST)].reset_index(drop=True)\n",
    "s_df = state_df.loc[state_df[\"State\"].isin(pf.SOUTH)].reset_index(drop=True)\n"
   ]
  },
  {
   "cell_type": "code",
   "execution_count": 3,
   "metadata": {},
   "outputs": [
    {
     "data": {
      "text/html": [
       "<div>\n",
       "<style scoped>\n",
       "    .dataframe tbody tr th:only-of-type {\n",
       "        vertical-align: middle;\n",
       "    }\n",
       "\n",
       "    .dataframe tbody tr th {\n",
       "        vertical-align: top;\n",
       "    }\n",
       "\n",
       "    .dataframe thead th {\n",
       "        text-align: right;\n",
       "    }\n",
       "</style>\n",
       "<table border=\"1\" class=\"dataframe\">\n",
       "  <thead>\n",
       "    <tr style=\"text-align: right;\">\n",
       "      <th></th>\n",
       "      <th>Name</th>\n",
       "      <th>Year</th>\n",
       "      <th>Gender</th>\n",
       "      <th>State</th>\n",
       "      <th>Count</th>\n",
       "    </tr>\n",
       "  </thead>\n",
       "  <tbody>\n",
       "    <tr>\n",
       "      <th>0</th>\n",
       "      <td>Mary</td>\n",
       "      <td>1910</td>\n",
       "      <td>F</td>\n",
       "      <td>AL</td>\n",
       "      <td>875</td>\n",
       "    </tr>\n",
       "    <tr>\n",
       "      <th>1</th>\n",
       "      <td>Annie</td>\n",
       "      <td>1910</td>\n",
       "      <td>F</td>\n",
       "      <td>AL</td>\n",
       "      <td>482</td>\n",
       "    </tr>\n",
       "    <tr>\n",
       "      <th>2</th>\n",
       "      <td>Willie</td>\n",
       "      <td>1910</td>\n",
       "      <td>F</td>\n",
       "      <td>AL</td>\n",
       "      <td>257</td>\n",
       "    </tr>\n",
       "    <tr>\n",
       "      <th>3</th>\n",
       "      <td>Mattie</td>\n",
       "      <td>1910</td>\n",
       "      <td>F</td>\n",
       "      <td>AL</td>\n",
       "      <td>232</td>\n",
       "    </tr>\n",
       "    <tr>\n",
       "      <th>4</th>\n",
       "      <td>Ruby</td>\n",
       "      <td>1910</td>\n",
       "      <td>F</td>\n",
       "      <td>AL</td>\n",
       "      <td>204</td>\n",
       "    </tr>\n",
       "    <tr>\n",
       "      <th>...</th>\n",
       "      <td>...</td>\n",
       "      <td>...</td>\n",
       "      <td>...</td>\n",
       "      <td>...</td>\n",
       "      <td>...</td>\n",
       "    </tr>\n",
       "    <tr>\n",
       "      <th>2173016</th>\n",
       "      <td>Pierce</td>\n",
       "      <td>2014</td>\n",
       "      <td>M</td>\n",
       "      <td>WV</td>\n",
       "      <td>5</td>\n",
       "    </tr>\n",
       "    <tr>\n",
       "      <th>2173017</th>\n",
       "      <td>Quinton</td>\n",
       "      <td>2014</td>\n",
       "      <td>M</td>\n",
       "      <td>WV</td>\n",
       "      <td>5</td>\n",
       "    </tr>\n",
       "    <tr>\n",
       "      <th>2173018</th>\n",
       "      <td>Reece</td>\n",
       "      <td>2014</td>\n",
       "      <td>M</td>\n",
       "      <td>WV</td>\n",
       "      <td>5</td>\n",
       "    </tr>\n",
       "    <tr>\n",
       "      <th>2173019</th>\n",
       "      <td>Sterling</td>\n",
       "      <td>2014</td>\n",
       "      <td>M</td>\n",
       "      <td>WV</td>\n",
       "      <td>5</td>\n",
       "    </tr>\n",
       "    <tr>\n",
       "      <th>2173020</th>\n",
       "      <td>Warren</td>\n",
       "      <td>2014</td>\n",
       "      <td>M</td>\n",
       "      <td>WV</td>\n",
       "      <td>5</td>\n",
       "    </tr>\n",
       "  </tbody>\n",
       "</table>\n",
       "<p>2173021 rows × 5 columns</p>\n",
       "</div>"
      ],
      "text/plain": [
       "             Name  Year Gender State  Count\n",
       "0            Mary  1910      F    AL    875\n",
       "1           Annie  1910      F    AL    482\n",
       "2          Willie  1910      F    AL    257\n",
       "3          Mattie  1910      F    AL    232\n",
       "4            Ruby  1910      F    AL    204\n",
       "...           ...   ...    ...   ...    ...\n",
       "2173016    Pierce  2014      M    WV      5\n",
       "2173017   Quinton  2014      M    WV      5\n",
       "2173018     Reece  2014      M    WV      5\n",
       "2173019  Sterling  2014      M    WV      5\n",
       "2173020    Warren  2014      M    WV      5\n",
       "\n",
       "[2173021 rows x 5 columns]"
      ]
     },
     "execution_count": 3,
     "metadata": {},
     "output_type": "execute_result"
    }
   ],
   "source": [
    "s_df # North East region data set"
   ]
  },
  {
   "cell_type": "code",
   "execution_count": 4,
   "metadata": {},
   "outputs": [
    {
     "data": {
      "text/html": [
       "<div>\n",
       "<style scoped>\n",
       "    .dataframe tbody tr th:only-of-type {\n",
       "        vertical-align: middle;\n",
       "    }\n",
       "\n",
       "    .dataframe tbody tr th {\n",
       "        vertical-align: top;\n",
       "    }\n",
       "\n",
       "    .dataframe thead th {\n",
       "        text-align: right;\n",
       "    }\n",
       "</style>\n",
       "<table border=\"1\" class=\"dataframe\">\n",
       "  <thead>\n",
       "    <tr style=\"text-align: right;\">\n",
       "      <th></th>\n",
       "      <th>Name</th>\n",
       "      <th>Year</th>\n",
       "      <th>Gender</th>\n",
       "      <th>State</th>\n",
       "      <th>Count</th>\n",
       "    </tr>\n",
       "  </thead>\n",
       "  <tbody>\n",
       "    <tr>\n",
       "      <th>0</th>\n",
       "      <td>Mary</td>\n",
       "      <td>1910</td>\n",
       "      <td>F</td>\n",
       "      <td>CT</td>\n",
       "      <td>304</td>\n",
       "    </tr>\n",
       "    <tr>\n",
       "      <th>1</th>\n",
       "      <td>Helen</td>\n",
       "      <td>1910</td>\n",
       "      <td>F</td>\n",
       "      <td>CT</td>\n",
       "      <td>170</td>\n",
       "    </tr>\n",
       "    <tr>\n",
       "      <th>2</th>\n",
       "      <td>Anna</td>\n",
       "      <td>1910</td>\n",
       "      <td>F</td>\n",
       "      <td>CT</td>\n",
       "      <td>131</td>\n",
       "    </tr>\n",
       "    <tr>\n",
       "      <th>3</th>\n",
       "      <td>Margaret</td>\n",
       "      <td>1910</td>\n",
       "      <td>F</td>\n",
       "      <td>CT</td>\n",
       "      <td>99</td>\n",
       "    </tr>\n",
       "    <tr>\n",
       "      <th>4</th>\n",
       "      <td>Dorothy</td>\n",
       "      <td>1910</td>\n",
       "      <td>F</td>\n",
       "      <td>CT</td>\n",
       "      <td>90</td>\n",
       "    </tr>\n",
       "    <tr>\n",
       "      <th>...</th>\n",
       "      <td>...</td>\n",
       "      <td>...</td>\n",
       "      <td>...</td>\n",
       "      <td>...</td>\n",
       "      <td>...</td>\n",
       "    </tr>\n",
       "    <tr>\n",
       "      <th>1077883</th>\n",
       "      <td>Richard</td>\n",
       "      <td>2014</td>\n",
       "      <td>M</td>\n",
       "      <td>VT</td>\n",
       "      <td>5</td>\n",
       "    </tr>\n",
       "    <tr>\n",
       "      <th>1077884</th>\n",
       "      <td>Rowan</td>\n",
       "      <td>2014</td>\n",
       "      <td>M</td>\n",
       "      <td>VT</td>\n",
       "      <td>5</td>\n",
       "    </tr>\n",
       "    <tr>\n",
       "      <th>1077885</th>\n",
       "      <td>Simon</td>\n",
       "      <td>2014</td>\n",
       "      <td>M</td>\n",
       "      <td>VT</td>\n",
       "      <td>5</td>\n",
       "    </tr>\n",
       "    <tr>\n",
       "      <th>1077886</th>\n",
       "      <td>Skyler</td>\n",
       "      <td>2014</td>\n",
       "      <td>M</td>\n",
       "      <td>VT</td>\n",
       "      <td>5</td>\n",
       "    </tr>\n",
       "    <tr>\n",
       "      <th>1077887</th>\n",
       "      <td>Wilder</td>\n",
       "      <td>2014</td>\n",
       "      <td>M</td>\n",
       "      <td>VT</td>\n",
       "      <td>5</td>\n",
       "    </tr>\n",
       "  </tbody>\n",
       "</table>\n",
       "<p>1077888 rows × 5 columns</p>\n",
       "</div>"
      ],
      "text/plain": [
       "             Name  Year Gender State  Count\n",
       "0            Mary  1910      F    CT    304\n",
       "1           Helen  1910      F    CT    170\n",
       "2            Anna  1910      F    CT    131\n",
       "3        Margaret  1910      F    CT     99\n",
       "4         Dorothy  1910      F    CT     90\n",
       "...           ...   ...    ...   ...    ...\n",
       "1077883   Richard  2014      M    VT      5\n",
       "1077884     Rowan  2014      M    VT      5\n",
       "1077885     Simon  2014      M    VT      5\n",
       "1077886    Skyler  2014      M    VT      5\n",
       "1077887    Wilder  2014      M    VT      5\n",
       "\n",
       "[1077888 rows x 5 columns]"
      ]
     },
     "execution_count": 4,
     "metadata": {},
     "output_type": "execute_result"
    }
   ],
   "source": [
    "n_df# South region data set"
   ]
  },
  {
   "cell_type": "markdown",
   "metadata": {},
   "source": [
    "___"
   ]
  },
  {
   "cell_type": "markdown",
   "metadata": {},
   "source": [
    "## Initial inspection\n",
    "\n",
    "Let's have a general of the data set for each region."
   ]
  },
  {
   "cell_type": "markdown",
   "metadata": {},
   "source": [
    "### North East region"
   ]
  },
  {
   "cell_type": "code",
   "execution_count": 5,
   "metadata": {},
   "outputs": [
    {
     "data": {
      "text/plain": [
       "(1077888, 5)"
      ]
     },
     "execution_count": 5,
     "metadata": {},
     "output_type": "execute_result"
    }
   ],
   "source": [
    "n_df.shape"
   ]
  },
  {
   "cell_type": "markdown",
   "metadata": {},
   "source": [
    "For the North East, we see that there are **more than 1 million collected record** and **5 variable for each observation**. "
   ]
  },
  {
   "cell_type": "code",
   "execution_count": 6,
   "metadata": {},
   "outputs": [
    {
     "data": {
      "text/plain": [
       "Index(['Name', 'Year', 'Gender', 'State', 'Count'], dtype='object')"
      ]
     },
     "execution_count": 6,
     "metadata": {},
     "output_type": "execute_result"
    }
   ],
   "source": [
    "n_df.columns"
   ]
  },
  {
   "cell_type": "markdown",
   "metadata": {},
   "source": [
    "Indeed, we have 5 variables for each observation. **The state column is not important since we care only about regions.**"
   ]
  },
  {
   "cell_type": "code",
   "execution_count": 7,
   "metadata": {},
   "outputs": [
    {
     "data": {
      "text/html": [
       "<div>\n",
       "<style scoped>\n",
       "    .dataframe tbody tr th:only-of-type {\n",
       "        vertical-align: middle;\n",
       "    }\n",
       "\n",
       "    .dataframe tbody tr th {\n",
       "        vertical-align: top;\n",
       "    }\n",
       "\n",
       "    .dataframe thead th {\n",
       "        text-align: right;\n",
       "    }\n",
       "</style>\n",
       "<table border=\"1\" class=\"dataframe\">\n",
       "  <thead>\n",
       "    <tr style=\"text-align: right;\">\n",
       "      <th></th>\n",
       "      <th>count</th>\n",
       "      <th>unique</th>\n",
       "      <th>top</th>\n",
       "      <th>freq</th>\n",
       "    </tr>\n",
       "  </thead>\n",
       "  <tbody>\n",
       "    <tr>\n",
       "      <th>Name</th>\n",
       "      <td>1077888</td>\n",
       "      <td>15817</td>\n",
       "      <td>John</td>\n",
       "      <td>1515</td>\n",
       "    </tr>\n",
       "    <tr>\n",
       "      <th>Gender</th>\n",
       "      <td>1077888</td>\n",
       "      <td>2</td>\n",
       "      <td>F</td>\n",
       "      <td>611881</td>\n",
       "    </tr>\n",
       "    <tr>\n",
       "      <th>State</th>\n",
       "      <td>1077888</td>\n",
       "      <td>11</td>\n",
       "      <td>NY</td>\n",
       "      <td>277809</td>\n",
       "    </tr>\n",
       "  </tbody>\n",
       "</table>\n",
       "</div>"
      ],
      "text/plain": [
       "          count unique   top    freq\n",
       "Name    1077888  15817  John    1515\n",
       "Gender  1077888      2     F  611881\n",
       "State   1077888     11    NY  277809"
      ]
     },
     "execution_count": 7,
     "metadata": {},
     "output_type": "execute_result"
    }
   ],
   "source": [
    "n_df.describe(include=[object]).T"
   ]
  },
  {
   "cell_type": "markdown",
   "metadata": {},
   "source": [
    "For categorial data:\n",
    "\n",
    "- We see that there are 3 categorical variable in the dataframe with other 2 numerical variable (Year and Count)\n",
    "- Here, we can see that are 15817 unique names in this region\n",
    "- There are 11 states recorded that equal to total number of states in this region. This means all states participates in this survey.\n",
    "- It is not clear whether John is the most popular all of times since we also have a count column"
   ]
  },
  {
   "cell_type": "code",
   "execution_count": 8,
   "metadata": {},
   "outputs": [
    {
     "data": {
      "text/html": [
       "<div>\n",
       "<style scoped>\n",
       "    .dataframe tbody tr th:only-of-type {\n",
       "        vertical-align: middle;\n",
       "    }\n",
       "\n",
       "    .dataframe tbody tr th {\n",
       "        vertical-align: top;\n",
       "    }\n",
       "\n",
       "    .dataframe thead th {\n",
       "        text-align: right;\n",
       "    }\n",
       "</style>\n",
       "<table border=\"1\" class=\"dataframe\">\n",
       "  <thead>\n",
       "    <tr style=\"text-align: right;\">\n",
       "      <th></th>\n",
       "      <th>count</th>\n",
       "      <th>mean</th>\n",
       "      <th>std</th>\n",
       "      <th>min</th>\n",
       "      <th>25%</th>\n",
       "      <th>50%</th>\n",
       "      <th>75%</th>\n",
       "      <th>max</th>\n",
       "    </tr>\n",
       "  </thead>\n",
       "  <tbody>\n",
       "    <tr>\n",
       "      <th>Year</th>\n",
       "      <td>1077888.0</td>\n",
       "      <td>1972.568780</td>\n",
       "      <td>29.206224</td>\n",
       "      <td>1910.0</td>\n",
       "      <td>1951.0</td>\n",
       "      <td>1977.0</td>\n",
       "      <td>1998.0</td>\n",
       "      <td>2014.0</td>\n",
       "    </tr>\n",
       "    <tr>\n",
       "      <th>Count</th>\n",
       "      <td>1077888.0</td>\n",
       "      <td>64.282026</td>\n",
       "      <td>244.034990</td>\n",
       "      <td>5.0</td>\n",
       "      <td>7.0</td>\n",
       "      <td>13.0</td>\n",
       "      <td>36.0</td>\n",
       "      <td>10023.0</td>\n",
       "    </tr>\n",
       "  </tbody>\n",
       "</table>\n",
       "</div>"
      ],
      "text/plain": [
       "           count         mean         std     min     25%     50%     75%  \\\n",
       "Year   1077888.0  1972.568780   29.206224  1910.0  1951.0  1977.0  1998.0   \n",
       "Count  1077888.0    64.282026  244.034990     5.0     7.0    13.0    36.0   \n",
       "\n",
       "           max  \n",
       "Year    2014.0  \n",
       "Count  10023.0  "
      ]
     },
     "execution_count": 8,
     "metadata": {},
     "output_type": "execute_result"
    }
   ],
   "source": [
    "n_df.describe().T"
   ]
  },
  {
   "cell_type": "markdown",
   "metadata": {},
   "source": [
    "Summary on numerical values do not give any useful information. "
   ]
  },
  {
   "cell_type": "markdown",
   "metadata": {},
   "source": [
    "### South region"
   ]
  },
  {
   "cell_type": "code",
   "execution_count": 9,
   "metadata": {},
   "outputs": [
    {
     "data": {
      "text/plain": [
       "(2173021, 5)"
      ]
     },
     "execution_count": 9,
     "metadata": {},
     "output_type": "execute_result"
    }
   ],
   "source": [
    "s_df.shape"
   ]
  },
  {
   "cell_type": "markdown",
   "metadata": {},
   "source": [
    "For the South, we see that there are **more than 2 million collected record** and **5 variable for each observation**."
   ]
  },
  {
   "cell_type": "code",
   "execution_count": 10,
   "metadata": {},
   "outputs": [
    {
     "data": {
      "text/plain": [
       "Index(['Name', 'Year', 'Gender', 'State', 'Count'], dtype='object')"
      ]
     },
     "execution_count": 10,
     "metadata": {},
     "output_type": "execute_result"
    }
   ],
   "source": [
    "# We have 5 variables for each observation\n",
    "s_df.columns"
   ]
  },
  {
   "cell_type": "markdown",
   "metadata": {},
   "source": [
    "This is similar to that of North East region."
   ]
  },
  {
   "cell_type": "code",
   "execution_count": 11,
   "metadata": {},
   "outputs": [
    {
     "data": {
      "text/html": [
       "<div>\n",
       "<style scoped>\n",
       "    .dataframe tbody tr th:only-of-type {\n",
       "        vertical-align: middle;\n",
       "    }\n",
       "\n",
       "    .dataframe tbody tr th {\n",
       "        vertical-align: top;\n",
       "    }\n",
       "\n",
       "    .dataframe thead th {\n",
       "        text-align: right;\n",
       "    }\n",
       "</style>\n",
       "<table border=\"1\" class=\"dataframe\">\n",
       "  <thead>\n",
       "    <tr style=\"text-align: right;\">\n",
       "      <th></th>\n",
       "      <th>count</th>\n",
       "      <th>unique</th>\n",
       "      <th>top</th>\n",
       "      <th>freq</th>\n",
       "    </tr>\n",
       "  </thead>\n",
       "  <tbody>\n",
       "    <tr>\n",
       "      <th>Name</th>\n",
       "      <td>2173021</td>\n",
       "      <td>20860</td>\n",
       "      <td>Jessie</td>\n",
       "      <td>2991</td>\n",
       "    </tr>\n",
       "    <tr>\n",
       "      <th>Gender</th>\n",
       "      <td>2173021</td>\n",
       "      <td>2</td>\n",
       "      <td>F</td>\n",
       "      <td>1196486</td>\n",
       "    </tr>\n",
       "    <tr>\n",
       "      <th>State</th>\n",
       "      <td>2173021</td>\n",
       "      <td>17</td>\n",
       "      <td>TX</td>\n",
       "      <td>324133</td>\n",
       "    </tr>\n",
       "  </tbody>\n",
       "</table>\n",
       "</div>"
      ],
      "text/plain": [
       "          count unique     top     freq\n",
       "Name    2173021  20860  Jessie     2991\n",
       "Gender  2173021      2       F  1196486\n",
       "State   2173021     17      TX   324133"
      ]
     },
     "execution_count": 11,
     "metadata": {},
     "output_type": "execute_result"
    }
   ],
   "source": [
    "s_df.describe(include=[object]).T"
   ]
  },
  {
   "cell_type": "markdown",
   "metadata": {},
   "source": [
    "For categorial data:\n",
    "\n",
    "- We see that there are 3 categorical variable in the dataframe with other 2 numerical variable (Year and Count)\n",
    "- Here, we can see that are 20860 unique names in this region\n",
    "- There are 17 states recorded that equal to total number of states in this region. This means all states participates in this survey\n",
    "- It is not clear whether Jessie is the most popular all of times since we also have a count column"
   ]
  },
  {
   "cell_type": "code",
   "execution_count": 12,
   "metadata": {},
   "outputs": [
    {
     "data": {
      "text/html": [
       "<div>\n",
       "<style scoped>\n",
       "    .dataframe tbody tr th:only-of-type {\n",
       "        vertical-align: middle;\n",
       "    }\n",
       "\n",
       "    .dataframe tbody tr th {\n",
       "        vertical-align: top;\n",
       "    }\n",
       "\n",
       "    .dataframe thead th {\n",
       "        text-align: right;\n",
       "    }\n",
       "</style>\n",
       "<table border=\"1\" class=\"dataframe\">\n",
       "  <thead>\n",
       "    <tr style=\"text-align: right;\">\n",
       "      <th></th>\n",
       "      <th>count</th>\n",
       "      <th>mean</th>\n",
       "      <th>std</th>\n",
       "      <th>min</th>\n",
       "      <th>25%</th>\n",
       "      <th>50%</th>\n",
       "      <th>75%</th>\n",
       "      <th>max</th>\n",
       "    </tr>\n",
       "  </thead>\n",
       "  <tbody>\n",
       "    <tr>\n",
       "      <th>Year</th>\n",
       "      <td>2173021.0</td>\n",
       "      <td>1970.950681</td>\n",
       "      <td>30.260875</td>\n",
       "      <td>1910.0</td>\n",
       "      <td>1946.0</td>\n",
       "      <td>1975.0</td>\n",
       "      <td>1998.0</td>\n",
       "      <td>2014.0</td>\n",
       "    </tr>\n",
       "    <tr>\n",
       "      <th>Count</th>\n",
       "      <td>2173021.0</td>\n",
       "      <td>47.601974</td>\n",
       "      <td>134.264750</td>\n",
       "      <td>5.0</td>\n",
       "      <td>7.0</td>\n",
       "      <td>13.0</td>\n",
       "      <td>34.0</td>\n",
       "      <td>5060.0</td>\n",
       "    </tr>\n",
       "  </tbody>\n",
       "</table>\n",
       "</div>"
      ],
      "text/plain": [
       "           count         mean         std     min     25%     50%     75%  \\\n",
       "Year   2173021.0  1970.950681   30.260875  1910.0  1946.0  1975.0  1998.0   \n",
       "Count  2173021.0    47.601974  134.264750     5.0     7.0    13.0    34.0   \n",
       "\n",
       "          max  \n",
       "Year   2014.0  \n",
       "Count  5060.0  "
      ]
     },
     "execution_count": 12,
     "metadata": {},
     "output_type": "execute_result"
    }
   ],
   "source": [
    "s_df.describe().T"
   ]
  },
  {
   "cell_type": "markdown",
   "metadata": {},
   "source": [
    "Summary on numerical values do not give any useful information.\n",
    "___"
   ]
  },
  {
   "cell_type": "markdown",
   "metadata": {},
   "source": [
    "## Analysis"
   ]
  },
  {
   "cell_type": "markdown",
   "metadata": {},
   "source": [
    "### Research Question\n",
    "\n",
    "- RQ1: What are the top 5 most occuring name of all times? What are the top 5 name of all times in each gender? How is the list different between 2 regions?\n",
    "\n",
    "- RQ2: How is proportion of top 5 change from 1910 to 2014 in North East and South region?"
   ]
  },
  {
   "cell_type": "markdown",
   "metadata": {},
   "source": [
    "### Top 5 of all times in South and North"
   ]
  },
  {
   "cell_type": "markdown",
   "metadata": {},
   "source": [
    "We start by aggregating sum of counts of every name in each region for all years."
   ]
  },
  {
   "cell_type": "code",
   "execution_count": 21,
   "metadata": {},
   "outputs": [],
   "source": [
    "# Define processing function\n",
    "def get_top5_all_time(data=None):\n",
    "    if data is None:\n",
    "        return data\n",
    "    return (data.groupby(by=\"Name\")\n",
    "              .aggregate(\"sum\")\n",
    "              .drop(columns=[\"Year\"]) # We do not analyze with time\n",
    "              .reset_index()\n",
    "              .sort_values(by=\"Count\", ascending=False)\n",
    "              .head()\n",
    "           )\n",
    "# For the north east\n",
    "top5_n = get_top5_all_time(n_df)\n",
    "# For the south\n",
    "top5_s = get_top5_all_time(s_df)"
   ]
  },
  {
   "cell_type": "markdown",
   "metadata": {},
   "source": [
    "Now, we can build plots. In this case, for counting the number of occurence for each discrete entry, bar plots is ideal."
   ]
  },
  {
   "cell_type": "code",
   "execution_count": 61,
   "metadata": {},
   "outputs": [
    {
     "data": {
      "image/png": "[encoded data removed]",
      "text/plain": [
       "<Figure size 864x504 with 2 Axes>"
      ]
     },
     "metadata": {},
     "output_type": "display_data"
    }
   ],
   "source": [
    "# Check similarity between 2 regions\n",
    "sns.set_theme(context=\"notebook\", style=\"ticks\",  font_scale=1.3)\n",
    "\n",
    "# Need to assign color to the same name on 2 subplots.\n",
    "\n",
    "fig, ax = plt.subplots(nrows=1, ncols=2, figsize=(12,7), sharex=True)\n",
    "# North graph\n",
    "north = sns.barplot(y=\"Name\",\n",
    "            x=\"Count\",\n",
    "            data=top5_n,\n",
    "            order=top5_n[\"Name\"],\n",
    "            ax=ax[0]\n",
    "            )\n",
    "north.set_title(\"North East Top 5 Name All Time\")\n",
    "\n",
    "# South graph\n",
    "south = sns.barplot(y=\"Name\",\n",
    "            x=\"Count\",\n",
    "            data=top5_s,\n",
    "            order=top5_s[\"Name\"],\n",
    "            ax=ax[1])\n",
    "south.set_title(\"South Top 5 Name All Time\")\n",
    "\n",
    "# Show plot\n",
    "sns.despine()\n",
    "fig.tight_layout(pad=3.0)\n",
    "fig.suptitle(\"Top 5 names of all times in North East and South Region\")\n",
    "plt.show()"
   ]
  },
  {
   "cell_type": "markdown",
   "metadata": {},
   "source": [
    "#### Observations\n",
    "\n",
    "- We can see that top 5 in these 2 regions are quite similar with the appearance of **James, William, Robert and John**. The difference is that **Michael** is in top 5 in the North East  while **Mary** is in the top 5 in the South.\n",
    "\n",
    "- All names in top 5 list in both region pass the mark of **1 million** count of all time. Maximum count in the *North East* is almost **1.6 millions** while that of the *South* surpasses **2 millions**.\n",
    "\n",
    "- In the **North East** region, **John is the most popular name all times**, followed by Robert. James is at the last of the list.\n",
    "\n",
    "- In the **South region**, however, **James appears to the most popular name of all times**, followed by John, who takes the top in the South.\n",
    "___\n"
   ]
  },
  {
   "cell_type": "markdown",
   "metadata": {},
   "source": [
    "### Top 5 of all times of each gender South and North"
   ]
  },
  {
   "cell_type": "markdown",
   "metadata": {},
   "source": [
    "We start by filtering out data set based on gender."
   ]
  },
  {
   "cell_type": "code",
   "execution_count": 48,
   "metadata": {},
   "outputs": [],
   "source": [
    "# Function for filter data based on gender\n",
    "def get_top_5(data, region, gender):\n",
    "    return (data.groupby(by=\"Name\")\n",
    "                   .agg(np.sum)\n",
    "                   .sort_values(by=\"Count\", ascending=False)\n",
    "                   .head()\n",
    "                   .drop(columns=\"Year\") # We do not care about year\n",
    "                   .assign(Region=region, Gender=gender)\n",
    "                   .reset_index()\n",
    "            )\n",
    "\n",
    "# In the North East\n",
    "top5_male_n, top5_female_n = (get_top_5(n_df.loc[n_df[\"Gender\"] == \"M\"], \"NE\", \"M\"), \n",
    "                              get_top_5(n_df.loc[n_df[\"Gender\"] == \"F\"], \"NE\", \"F\")\n",
    "                             )\n",
    "\n",
    "# In the South\n",
    "top5_male_s, top5_female_s = (get_top_5(s_df.loc[s_df[\"Gender\"] == \"M\"], \"S\", \"M\"), \n",
    "                              get_top_5(s_df.loc[s_df[\"Gender\"] == \"F\"], \"S\", \"F\")\n",
    "                             )\n"
   ]
  },
  {
   "cell_type": "markdown",
   "metadata": {},
   "source": [
    "Now, we can plot. In this case, we will will bar plot to indicate counts and FacetGrid as way to categorize plot based on region and gender"
   ]
  },
  {
   "cell_type": "code",
   "execution_count": 62,
   "metadata": {},
   "outputs": [
    {
     "data": {
      "image/png": "[encoded data removed]",
      "text/plain": [
       "<Figure size 864x504 with 2 Axes>"
      ]
     },
     "metadata": {},
     "output_type": "display_data"
    }
   ],
   "source": [
    "# Settings\n",
    "sns.set_theme(style=\"ticks\", font_scale=1.3)\n",
    "fig,ax= plt.subplots(1,2, figsize=(12,7), sharex=True)\n",
    "\n",
    "def draw_gender_plot(axes, data_list, result_axes=None):\n",
    "    if result_axes is None:\n",
    "        result_axes = list()\n",
    "    for i in range(len(ax)):\n",
    "        data = data_list[i]\n",
    "        ax_ij = sns.barplot(x=\"Count\",\n",
    "                      y=\"Name\",\n",
    "                      data=data,\n",
    "                      ax=ax[i]\n",
    "                     )\n",
    "        region, gender = data[\"Region\"][0], data[\"Gender\"][0]\n",
    "        ax_ij.set_title(f\"Region = {region} | Gender = {gender}\")\n",
    "        result_axes.append(ax_ij)\n",
    "            \n",
    "    return result_axes\n",
    "\n",
    "draw_gender_plot(ax, [top5_male_n,top5_male_s])\n",
    "\n",
    "# Configure figure object\n",
    "sns.despine()\n",
    "fig.tight_layout(pad=2.7)\n",
    "fig.suptitle(\"Top 5 male names of all times in North East and South Region\")\n",
    "plt.show()"
   ]
  },
  {
   "cell_type": "markdown",
   "metadata": {},
   "source": [
    "#### Observation\n",
    "\n",
    "- Interestingly, <mark>two regions have the same names in the top 5 male names all times</mark>. This might result from the fact that these two regions are close to each other.\n",
    "\n",
    "- However, the pattern is different. In the **North East**, **John is most occuring name** with over 1.5 million counts. In the **South**, **James is at top** with over 2 million counts.\n",
    "\n",
    "- Generally, **count in the South is higher than that in the North East for the top 5 male name.** "
   ]
  },
  {
   "cell_type": "code",
   "execution_count": 63,
   "metadata": {},
   "outputs": [
    {
     "data": {
      "image/png": "[encoded data removed]",
      "text/plain": [
       "<Figure size 864x504 with 2 Axes>"
      ]
     },
     "metadata": {},
     "output_type": "display_data"
    }
   ],
   "source": [
    "fig, ax = plt.subplots(1,2, figsize=(12,7), sharex=True)\n",
    "draw_gender_plot(ax,[top5_female_n,top5_female_s])\n",
    "# Configure figure object\n",
    "sns.despine()\n",
    "fig.tight_layout(pad=2.7)\n",
    "fig.suptitle(\"Top 5 female names of all times in North East and South Region\")\n",
    "plt.show()"
   ]
  },
  {
   "cell_type": "markdown",
   "metadata": {},
   "source": [
    "#### Observations\n",
    "\n",
    "- Even more interesting, <mark>the top 5 female names see Mary at top for both region</mark>. **Mary's count is almost double that of other names in the list.**\n",
    "\n",
    "-  The two list seems similar with the appearance of Mary, Patricia, Elizabeth. Unlike male top 5, **this list differs by 2 names between two region**. In the North East, Barbara and Margaret are in the list. In the South, Linda and Betty are the list.\n",
    "\n",
    "- Generally, **count in the South is higher than that of the North East for top 5 female names**"
   ]
  },
  {
   "cell_type": "markdown",
   "metadata": {},
   "source": [
    "#### Summary\n",
    "\n",
    "- There are particular difference between male and female top 5. Male top 5 has the same pattern between 2 regions. Female top 5 see the same name at the top.\n",
    "\n",
    "- The difference in count between top name in male and other names the list is not significant. However, in the female list, that difference is almost double.\n",
    "___"
   ]
  },
  {
   "cell_type": "markdown",
   "metadata": {},
   "source": [
    "### Proportion trend of top 5 in 1910 until 2014"
   ]
  },
  {
   "cell_type": "markdown",
   "metadata": {},
   "source": [
    "Let's find the proportion of each name in top 5 (in 1910) in the total count for every subsequential year."
   ]
  },
  {
   "cell_type": "code",
   "execution_count": 17,
   "metadata": {},
   "outputs": [
    {
     "data": {
      "text/html": [
       "<div>\n",
       "<style scoped>\n",
       "    .dataframe tbody tr th:only-of-type {\n",
       "        vertical-align: middle;\n",
       "    }\n",
       "\n",
       "    .dataframe tbody tr th {\n",
       "        vertical-align: top;\n",
       "    }\n",
       "\n",
       "    .dataframe thead th {\n",
       "        text-align: right;\n",
       "    }\n",
       "</style>\n",
       "<table border=\"1\" class=\"dataframe\">\n",
       "  <thead>\n",
       "    <tr style=\"text-align: right;\">\n",
       "      <th>Name</th>\n",
       "      <th>Anna</th>\n",
       "      <th>Helen</th>\n",
       "      <th>John</th>\n",
       "      <th>Margaret</th>\n",
       "      <th>Mary</th>\n",
       "    </tr>\n",
       "    <tr>\n",
       "      <th>Year</th>\n",
       "      <th></th>\n",
       "      <th></th>\n",
       "      <th></th>\n",
       "      <th></th>\n",
       "      <th></th>\n",
       "    </tr>\n",
       "  </thead>\n",
       "  <tbody>\n",
       "    <tr>\n",
       "      <th>1910</th>\n",
       "      <td>0.024725</td>\n",
       "      <td>0.031357</td>\n",
       "      <td>0.027311</td>\n",
       "      <td>0.024524</td>\n",
       "      <td>0.053919</td>\n",
       "    </tr>\n",
       "    <tr>\n",
       "      <th>1911</th>\n",
       "      <td>0.021152</td>\n",
       "      <td>0.028852</td>\n",
       "      <td>0.030803</td>\n",
       "      <td>0.022667</td>\n",
       "      <td>0.049495</td>\n",
       "    </tr>\n",
       "    <tr>\n",
       "      <th>1912</th>\n",
       "      <td>0.017939</td>\n",
       "      <td>0.025133</td>\n",
       "      <td>0.034826</td>\n",
       "      <td>0.018846</td>\n",
       "      <td>0.042198</td>\n",
       "    </tr>\n",
       "    <tr>\n",
       "      <th>1913</th>\n",
       "      <td>0.017702</td>\n",
       "      <td>0.025266</td>\n",
       "      <td>0.036107</td>\n",
       "      <td>0.018470</td>\n",
       "      <td>0.041729</td>\n",
       "    </tr>\n",
       "    <tr>\n",
       "      <th>1914</th>\n",
       "      <td>0.016942</td>\n",
       "      <td>0.024356</td>\n",
       "      <td>0.036906</td>\n",
       "      <td>0.017929</td>\n",
       "      <td>0.040675</td>\n",
       "    </tr>\n",
       "    <tr>\n",
       "      <th>...</th>\n",
       "      <td>...</td>\n",
       "      <td>...</td>\n",
       "      <td>...</td>\n",
       "      <td>...</td>\n",
       "      <td>...</td>\n",
       "    </tr>\n",
       "    <tr>\n",
       "      <th>2010</th>\n",
       "      <td>0.002299</td>\n",
       "      <td>0.000241</td>\n",
       "      <td>0.004866</td>\n",
       "      <td>0.000729</td>\n",
       "      <td>0.000925</td>\n",
       "    </tr>\n",
       "    <tr>\n",
       "      <th>2011</th>\n",
       "      <td>0.002087</td>\n",
       "      <td>0.000208</td>\n",
       "      <td>0.004915</td>\n",
       "      <td>0.000672</td>\n",
       "      <td>0.000729</td>\n",
       "    </tr>\n",
       "    <tr>\n",
       "      <th>2012</th>\n",
       "      <td>0.002131</td>\n",
       "      <td>0.000268</td>\n",
       "      <td>0.004461</td>\n",
       "      <td>0.000720</td>\n",
       "      <td>0.000739</td>\n",
       "    </tr>\n",
       "    <tr>\n",
       "      <th>2013</th>\n",
       "      <td>0.002125</td>\n",
       "      <td>0.000242</td>\n",
       "      <td>0.004368</td>\n",
       "      <td>0.000689</td>\n",
       "      <td>0.000727</td>\n",
       "    </tr>\n",
       "    <tr>\n",
       "      <th>2014</th>\n",
       "      <td>0.002087</td>\n",
       "      <td>0.000265</td>\n",
       "      <td>0.004291</td>\n",
       "      <td>0.000755</td>\n",
       "      <td>0.000808</td>\n",
       "    </tr>\n",
       "  </tbody>\n",
       "</table>\n",
       "<p>105 rows × 5 columns</p>\n",
       "</div>"
      ],
      "text/plain": [
       "Name      Anna     Helen      John  Margaret      Mary\n",
       "Year                                                  \n",
       "1910  0.024725  0.031357  0.027311  0.024524  0.053919\n",
       "1911  0.021152  0.028852  0.030803  0.022667  0.049495\n",
       "1912  0.017939  0.025133  0.034826  0.018846  0.042198\n",
       "1913  0.017702  0.025266  0.036107  0.018470  0.041729\n",
       "1914  0.016942  0.024356  0.036906  0.017929  0.040675\n",
       "...        ...       ...       ...       ...       ...\n",
       "2010  0.002299  0.000241  0.004866  0.000729  0.000925\n",
       "2011  0.002087  0.000208  0.004915  0.000672  0.000729\n",
       "2012  0.002131  0.000268  0.004461  0.000720  0.000739\n",
       "2013  0.002125  0.000242  0.004368  0.000689  0.000727\n",
       "2014  0.002087  0.000265  0.004291  0.000755  0.000808\n",
       "\n",
       "[105 rows x 5 columns]"
      ]
     },
     "execution_count": 17,
     "metadata": {},
     "output_type": "execute_result"
    }
   ],
   "source": [
    "# Find top 5 in 1910 in the North East\n",
    "top5_1910_n = (n_df.loc[n_df[\"Year\"] == 1910]\n",
    "                   .groupby(by=\"Name\").agg(np.sum)\n",
    "                   .drop(columns=\"Year\")\n",
    "                   .sort_values(by=\"Count\", ascending=False)\n",
    "                   .head()\n",
    "                   .index\n",
    "              )\n",
    "\n",
    "# Pivot table of Years vs Name (top 5)\n",
    "n_year = (n_df.loc[n_df[\"Name\"].isin(top5_1910_n)]\n",
    "              .pivot_table(index=\"Year\",columns=\"Name\",values=\"Count\", aggfunc=np.sum)\n",
    "          )\n",
    "# Find the total count in each year\n",
    "y = n_df.groupby(by=\"Year\").agg(np.sum)\n",
    "for year in range(1910, 2015):\n",
    "    n_year.loc[year,:] = n_year.loc[year,:]/y.loc[year,\"Count\"]\n",
    "n_year"
   ]
  },
  {
   "cell_type": "code",
   "execution_count": 77,
   "metadata": {},
   "outputs": [
    {
     "data": {
      "image/png": "[encoded data removed]",
      "text/plain": [
       "<Figure size 720x576 with 1 Axes>"
      ]
     },
     "metadata": {},
     "output_type": "display_data"
    }
   ],
   "source": [
    "# Setting themes\n",
    "sns.set_theme(style=\"ticks\", font_scale=1.3, )\n",
    "plt.figure(figsize=(10,8))\n",
    "n_plot = sns.lineplot(data=n_year, \n",
    "                      hue_order=top5_1910_n,\n",
    "                      dashes=False\n",
    "                     )\n",
    "n_plot.set(ylabel=\"Percentage\", \n",
    "           title=\"Proportion of Top 5 Name in North in 1910 from 1910 to 2014\",\n",
    "           )\n",
    "n_plot.set_ylim(top=0.06)\n",
    "sns.despine()\n",
    "plt.show()"
   ]
  },
  {
   "cell_type": "markdown",
   "metadata": {},
   "source": [
    "#### Observations\n",
    "\n",
    "- **The general trend for top 5 names in 1910 appears to decrease over time**. This could result from the growing diversity of names and vast changes of country in many aspects.\n",
    "\n",
    "- Interesting, among the list, John saw a surge from 1910 to 1920. Then, it remains relatively stable at 3.8% until it started to drop in the early 1940s.\n",
    "\n",
    "- Also, Helen and Anna dropped significantly until 1960 where they stayed relatively flat near 0%. This means their names became quite rare after 1960.\n",
    "\n",
    "- In 2014, **the order of the top 5 is mixed up compared to that in 1910**."
   ]
  },
  {
   "cell_type": "code",
   "execution_count": 19,
   "metadata": {},
   "outputs": [
    {
     "data": {
      "text/html": [
       "<div>\n",
       "<style scoped>\n",
       "    .dataframe tbody tr th:only-of-type {\n",
       "        vertical-align: middle;\n",
       "    }\n",
       "\n",
       "    .dataframe tbody tr th {\n",
       "        vertical-align: top;\n",
       "    }\n",
       "\n",
       "    .dataframe thead th {\n",
       "        text-align: right;\n",
       "    }\n",
       "</style>\n",
       "<table border=\"1\" class=\"dataframe\">\n",
       "  <thead>\n",
       "    <tr style=\"text-align: right;\">\n",
       "      <th>Name</th>\n",
       "      <th>James</th>\n",
       "      <th>John</th>\n",
       "      <th>Mary</th>\n",
       "      <th>William</th>\n",
       "      <th>Willie</th>\n",
       "    </tr>\n",
       "    <tr>\n",
       "      <th>Year</th>\n",
       "      <th></th>\n",
       "      <th></th>\n",
       "      <th></th>\n",
       "      <th></th>\n",
       "      <th></th>\n",
       "    </tr>\n",
       "  </thead>\n",
       "  <tbody>\n",
       "    <tr>\n",
       "      <th>1910</th>\n",
       "      <td>0.024718</td>\n",
       "      <td>0.020511</td>\n",
       "      <td>0.042154</td>\n",
       "      <td>0.018469</td>\n",
       "      <td>0.019675</td>\n",
       "    </tr>\n",
       "    <tr>\n",
       "      <th>1911</th>\n",
       "      <td>0.025696</td>\n",
       "      <td>0.020962</td>\n",
       "      <td>0.041032</td>\n",
       "      <td>0.020228</td>\n",
       "      <td>0.017547</td>\n",
       "    </tr>\n",
       "    <tr>\n",
       "      <th>1912</th>\n",
       "      <td>0.028878</td>\n",
       "      <td>0.023969</td>\n",
       "      <td>0.035758</td>\n",
       "      <td>0.023514</td>\n",
       "      <td>0.016500</td>\n",
       "    </tr>\n",
       "    <tr>\n",
       "      <th>1913</th>\n",
       "      <td>0.030216</td>\n",
       "      <td>0.024513</td>\n",
       "      <td>0.035394</td>\n",
       "      <td>0.024571</td>\n",
       "      <td>0.015381</td>\n",
       "    </tr>\n",
       "    <tr>\n",
       "      <th>1914</th>\n",
       "      <td>0.031240</td>\n",
       "      <td>0.024852</td>\n",
       "      <td>0.034553</td>\n",
       "      <td>0.024684</td>\n",
       "      <td>0.015504</td>\n",
       "    </tr>\n",
       "    <tr>\n",
       "      <th>...</th>\n",
       "      <td>...</td>\n",
       "      <td>...</td>\n",
       "      <td>...</td>\n",
       "      <td>...</td>\n",
       "      <td>...</td>\n",
       "    </tr>\n",
       "    <tr>\n",
       "      <th>2010</th>\n",
       "      <td>0.004878</td>\n",
       "      <td>0.004274</td>\n",
       "      <td>0.001181</td>\n",
       "      <td>0.006337</td>\n",
       "      <td>0.000189</td>\n",
       "    </tr>\n",
       "    <tr>\n",
       "      <th>2011</th>\n",
       "      <td>0.004620</td>\n",
       "      <td>0.003974</td>\n",
       "      <td>0.001170</td>\n",
       "      <td>0.006529</td>\n",
       "      <td>0.000189</td>\n",
       "    </tr>\n",
       "    <tr>\n",
       "      <th>2012</th>\n",
       "      <td>0.004762</td>\n",
       "      <td>0.003879</td>\n",
       "      <td>0.001087</td>\n",
       "      <td>0.006325</td>\n",
       "      <td>0.000176</td>\n",
       "    </tr>\n",
       "    <tr>\n",
       "      <th>2013</th>\n",
       "      <td>0.004721</td>\n",
       "      <td>0.004015</td>\n",
       "      <td>0.001099</td>\n",
       "      <td>0.006069</td>\n",
       "      <td>0.000153</td>\n",
       "    </tr>\n",
       "    <tr>\n",
       "      <th>2014</th>\n",
       "      <td>0.004892</td>\n",
       "      <td>0.003920</td>\n",
       "      <td>0.001073</td>\n",
       "      <td>0.005985</td>\n",
       "      <td>0.000150</td>\n",
       "    </tr>\n",
       "  </tbody>\n",
       "</table>\n",
       "<p>105 rows × 5 columns</p>\n",
       "</div>"
      ],
      "text/plain": [
       "Name     James      John      Mary   William    Willie\n",
       "Year                                                  \n",
       "1910  0.024718  0.020511  0.042154  0.018469  0.019675\n",
       "1911  0.025696  0.020962  0.041032  0.020228  0.017547\n",
       "1912  0.028878  0.023969  0.035758  0.023514  0.016500\n",
       "1913  0.030216  0.024513  0.035394  0.024571  0.015381\n",
       "1914  0.031240  0.024852  0.034553  0.024684  0.015504\n",
       "...        ...       ...       ...       ...       ...\n",
       "2010  0.004878  0.004274  0.001181  0.006337  0.000189\n",
       "2011  0.004620  0.003974  0.001170  0.006529  0.000189\n",
       "2012  0.004762  0.003879  0.001087  0.006325  0.000176\n",
       "2013  0.004721  0.004015  0.001099  0.006069  0.000153\n",
       "2014  0.004892  0.003920  0.001073  0.005985  0.000150\n",
       "\n",
       "[105 rows x 5 columns]"
      ]
     },
     "execution_count": 19,
     "metadata": {},
     "output_type": "execute_result"
    }
   ],
   "source": [
    "# Find top 5 in 1910 in the North East\n",
    "top5_1910_s = (s_df.loc[s_df[\"Year\"] == 1910]\n",
    "                   .groupby(by=\"Name\").agg(np.sum)\n",
    "                   .drop(columns=\"Year\")\n",
    "                   .sort_values(by=\"Count\", ascending=False)\n",
    "                   .head()\n",
    "                   .index\n",
    "              )\n",
    "\n",
    "# Pivot table of Years vs Name (top 5)\n",
    "s_year = (s_df.loc[s_df[\"Name\"].isin(top5_1910_s)]\n",
    "              .pivot_table(index=\"Year\",columns=\"Name\",values=\"Count\", aggfunc=np.sum)\n",
    "          )\n",
    "# Find the total count in each year\n",
    "y = s_df.groupby(by=\"Year\").agg(np.sum)\n",
    "for year in range(1910, 2015):\n",
    "    s_year.loc[year,:] = s_year.loc[year,:]/y.loc[year,\"Count\"]\n",
    "s_year"
   ]
  },
  {
   "cell_type": "code",
   "execution_count": 75,
   "metadata": {},
   "outputs": [
    {
     "data": {
      "image/png": "[encoded data removed]",
      "text/plain": [
       "<Figure size 720x576 with 1 Axes>"
      ]
     },
     "metadata": {},
     "output_type": "display_data"
    }
   ],
   "source": [
    "# Setting themes\n",
    "sns.set_theme(style=\"ticks\", font_scale=1.3)\n",
    "plt.figure(figsize=(10,8))\n",
    "s_plot = sns.lineplot(data=s_year, \n",
    "                      hue_order=top5_1910_s,\n",
    "                      dashes=False\n",
    "                     )\n",
    "s_plot.set(ylabel=\"Percentage\", \n",
    "           title=\"Proportion of Top 5 Name in South in 1910 from 1910 to 2014\",\n",
    "           )\n",
    "s_plot.set_ylim(top=0.06)\n",
    "sns.despine()\n",
    "plt.show()"
   ]
  },
  {
   "cell_type": "markdown",
   "metadata": {},
   "source": [
    "#### Observations\n",
    "\n",
    "- **The general trend for top 5 names in 1910 appears to decrease over time**. This could also result from the growing diversity of names and major changes of country in many aspects.\n",
    "\n",
    "- Unlike the North East, the pattern between 5 names are not so similar.\n",
    "    - Mary dropped sharply in the 1910s, then rised in early 1920s, but eventually dropped again. \n",
    "    - For Willie, the decrease continued since 1910 to eventuall reach a point near 0%. \n",
    "    - For James, and Williams, both appeared increasing initially until 1940 before they dropped in the mid 1940s. James experienced a sharper decrease than Williams. \n",
    "    - For John, the pattern seems fluctuating in 104 years but eventuall dropped to lower percentage than 1910.\n",
    "\n",
    "\n",
    "- In 2014, **the order of the top 5 also is mixed up compared to that in 1910**."
   ]
  },
  {
   "cell_type": "markdown",
   "metadata": {},
   "source": [
    "#### Summary\n",
    "\n",
    "- Both region's top 5 in 1910 experience overall decreasing trend from 1910 to 2014. \n",
    "\n",
    "- The patterns in the North East are quite similar to one another while those in the South interestingly varies.\n",
    "\n",
    "- The order of top 5 are mixed up coming into 2014 in comparison to 1910."
   ]
  }
 ],
 "metadata": {
  "kernelspec": {
   "display_name": "Python 3",
   "language": "python",
   "name": "python3"
  },
  "language_info": {
   "codemirror_mode": {
    "name": "ipython",
    "version": 3
   },
   "file_extension": ".py",
   "mimetype": "text/x-python",
   "name": "python",
   "nbconvert_exporter": "python",
   "pygments_lexer": "ipython3",
   "version": "3.8.5"
  }
 },
 "nbformat": 4,
 "nbformat_minor": 4
}
