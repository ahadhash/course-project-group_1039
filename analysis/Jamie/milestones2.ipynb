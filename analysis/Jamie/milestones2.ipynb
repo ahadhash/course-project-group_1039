{
 "metadata": {
  "language_info": {
   "codemirror_mode": {
    "name": "ipython",
    "version": 3
   },
   "file_extension": ".py",
   "mimetype": "text/x-python",
   "name": "python",
   "nbconvert_exporter": "python",
   "pygments_lexer": "ipython3",
   "version": "3.8.5-final"
  },
  "orig_nbformat": 2,
  "kernelspec": {
   "name": "python3",
   "display_name": "Python 3.8.5 64-bit ('data301': conda)",
   "metadata": {
    "interpreter": {
     "hash": "07050cefa82ab7d167dbb8e3c316152c2b5f24d5f5c6550d5e0cf5af181fc1e2"
    }
   }
  }
 },
 "nbformat": 4,
 "nbformat_minor": 2,
 "cells": [
  {
   "cell_type": "code",
   "execution_count": 6,
   "metadata": {},
   "outputs": [],
   "source": [
    "import pandas as pd\n",
    "from scripts import project_functions\n",
    "\n",
    "# Load data from National Names\n",
    "national_df = project_functions.load_and_process_one('../../data/raw/NationalNames.csv')\n",
    "# Load 4 parts of raw data on State Names\n",
    "state_df = project_functions.load_and_process_many(\"../../data/raw\")\n"
   ]
  },
  {
   "cell_type": "code",
   "execution_count": 7,
   "metadata": {},
   "outputs": [
    {
     "output_type": "execute_result",
     "data": {
      "text/plain": [
       "              Id       Name  Year Gender  Count\n",
       "0              1       Mary  1880      F   7065\n",
       "1              2       Anna  1880      F   2604\n",
       "2              3       Emma  1880      F   2003\n",
       "3              4  Elizabeth  1880      F   1939\n",
       "4              5     Minnie  1880      F   1746\n",
       "...          ...        ...   ...    ...    ...\n",
       "1825428  1825429     Zykeem  2014      M      5\n",
       "1825429  1825430     Zymeer  2014      M      5\n",
       "1825430  1825431    Zymiere  2014      M      5\n",
       "1825431  1825432      Zyran  2014      M      5\n",
       "1825432  1825433      Zyrin  2014      M      5\n",
       "\n",
       "[1825433 rows x 5 columns]"
      ],
      "text/html": "<div>\n<style scoped>\n    .dataframe tbody tr th:only-of-type {\n        vertical-align: middle;\n    }\n\n    .dataframe tbody tr th {\n        vertical-align: top;\n    }\n\n    .dataframe thead th {\n        text-align: right;\n    }\n</style>\n<table border=\"1\" class=\"dataframe\">\n  <thead>\n    <tr style=\"text-align: right;\">\n      <th></th>\n      <th>Id</th>\n      <th>Name</th>\n      <th>Year</th>\n      <th>Gender</th>\n      <th>Count</th>\n    </tr>\n  </thead>\n  <tbody>\n    <tr>\n      <th>0</th>\n      <td>1</td>\n      <td>Mary</td>\n      <td>1880</td>\n      <td>F</td>\n      <td>7065</td>\n    </tr>\n    <tr>\n      <th>1</th>\n      <td>2</td>\n      <td>Anna</td>\n      <td>1880</td>\n      <td>F</td>\n      <td>2604</td>\n    </tr>\n    <tr>\n      <th>2</th>\n      <td>3</td>\n      <td>Emma</td>\n      <td>1880</td>\n      <td>F</td>\n      <td>2003</td>\n    </tr>\n    <tr>\n      <th>3</th>\n      <td>4</td>\n      <td>Elizabeth</td>\n      <td>1880</td>\n      <td>F</td>\n      <td>1939</td>\n    </tr>\n    <tr>\n      <th>4</th>\n      <td>5</td>\n      <td>Minnie</td>\n      <td>1880</td>\n      <td>F</td>\n      <td>1746</td>\n    </tr>\n    <tr>\n      <th>...</th>\n      <td>...</td>\n      <td>...</td>\n      <td>...</td>\n      <td>...</td>\n      <td>...</td>\n    </tr>\n    <tr>\n      <th>1825428</th>\n      <td>1825429</td>\n      <td>Zykeem</td>\n      <td>2014</td>\n      <td>M</td>\n      <td>5</td>\n    </tr>\n    <tr>\n      <th>1825429</th>\n      <td>1825430</td>\n      <td>Zymeer</td>\n      <td>2014</td>\n      <td>M</td>\n      <td>5</td>\n    </tr>\n    <tr>\n      <th>1825430</th>\n      <td>1825431</td>\n      <td>Zymiere</td>\n      <td>2014</td>\n      <td>M</td>\n      <td>5</td>\n    </tr>\n    <tr>\n      <th>1825431</th>\n      <td>1825432</td>\n      <td>Zyran</td>\n      <td>2014</td>\n      <td>M</td>\n      <td>5</td>\n    </tr>\n    <tr>\n      <th>1825432</th>\n      <td>1825433</td>\n      <td>Zyrin</td>\n      <td>2014</td>\n      <td>M</td>\n      <td>5</td>\n    </tr>\n  </tbody>\n</table>\n<p>1825433 rows × 5 columns</p>\n</div>"
     },
     "metadata": {},
     "execution_count": 7
    }
   ],
   "source": [
    "national_df"
   ]
  },
  {
   "cell_type": "code",
   "execution_count": 8,
   "metadata": {},
   "outputs": [
    {
     "output_type": "execute_result",
     "data": {
      "text/plain": [
       "              Id       Name  Year Gender  Count State\n",
       "0              1       Mary  1880      F   7065   NaN\n",
       "1              2       Anna  1880      F   2604   NaN\n",
       "2              3       Emma  1880      F   2003   NaN\n",
       "3              4  Elizabeth  1880      F   1939   NaN\n",
       "4              5     Minnie  1880      F   1746   NaN\n",
       "...          ...        ...   ...    ...    ...   ...\n",
       "7472854  5647422       Seth  2014      M      5    WY\n",
       "7472855  5647423    Spencer  2014      M      5    WY\n",
       "7472856  5647424       Tyce  2014      M      5    WY\n",
       "7472857  5647425     Victor  2014      M      5    WY\n",
       "7472858  5647426     Waylon  2014      M      5    WY\n",
       "\n",
       "[7472859 rows x 6 columns]"
      ],
      "text/html": "<div>\n<style scoped>\n    .dataframe tbody tr th:only-of-type {\n        vertical-align: middle;\n    }\n\n    .dataframe tbody tr th {\n        vertical-align: top;\n    }\n\n    .dataframe thead th {\n        text-align: right;\n    }\n</style>\n<table border=\"1\" class=\"dataframe\">\n  <thead>\n    <tr style=\"text-align: right;\">\n      <th></th>\n      <th>Id</th>\n      <th>Name</th>\n      <th>Year</th>\n      <th>Gender</th>\n      <th>Count</th>\n      <th>State</th>\n    </tr>\n  </thead>\n  <tbody>\n    <tr>\n      <th>0</th>\n      <td>1</td>\n      <td>Mary</td>\n      <td>1880</td>\n      <td>F</td>\n      <td>7065</td>\n      <td>NaN</td>\n    </tr>\n    <tr>\n      <th>1</th>\n      <td>2</td>\n      <td>Anna</td>\n      <td>1880</td>\n      <td>F</td>\n      <td>2604</td>\n      <td>NaN</td>\n    </tr>\n    <tr>\n      <th>2</th>\n      <td>3</td>\n      <td>Emma</td>\n      <td>1880</td>\n      <td>F</td>\n      <td>2003</td>\n      <td>NaN</td>\n    </tr>\n    <tr>\n      <th>3</th>\n      <td>4</td>\n      <td>Elizabeth</td>\n      <td>1880</td>\n      <td>F</td>\n      <td>1939</td>\n      <td>NaN</td>\n    </tr>\n    <tr>\n      <th>4</th>\n      <td>5</td>\n      <td>Minnie</td>\n      <td>1880</td>\n      <td>F</td>\n      <td>1746</td>\n      <td>NaN</td>\n    </tr>\n    <tr>\n      <th>...</th>\n      <td>...</td>\n      <td>...</td>\n      <td>...</td>\n      <td>...</td>\n      <td>...</td>\n      <td>...</td>\n    </tr>\n    <tr>\n      <th>7472854</th>\n      <td>5647422</td>\n      <td>Seth</td>\n      <td>2014</td>\n      <td>M</td>\n      <td>5</td>\n      <td>WY</td>\n    </tr>\n    <tr>\n      <th>7472855</th>\n      <td>5647423</td>\n      <td>Spencer</td>\n      <td>2014</td>\n      <td>M</td>\n      <td>5</td>\n      <td>WY</td>\n    </tr>\n    <tr>\n      <th>7472856</th>\n      <td>5647424</td>\n      <td>Tyce</td>\n      <td>2014</td>\n      <td>M</td>\n      <td>5</td>\n      <td>WY</td>\n    </tr>\n    <tr>\n      <th>7472857</th>\n      <td>5647425</td>\n      <td>Victor</td>\n      <td>2014</td>\n      <td>M</td>\n      <td>5</td>\n      <td>WY</td>\n    </tr>\n    <tr>\n      <th>7472858</th>\n      <td>5647426</td>\n      <td>Waylon</td>\n      <td>2014</td>\n      <td>M</td>\n      <td>5</td>\n      <td>WY</td>\n    </tr>\n  </tbody>\n</table>\n<p>7472859 rows × 6 columns</p>\n</div>"
     },
     "metadata": {},
     "execution_count": 8
    }
   ],
   "source": [
    "state_df"
   ]
  }
 ]
}