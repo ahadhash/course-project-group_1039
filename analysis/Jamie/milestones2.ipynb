{
 "cells": [
  {
   "cell_type": "code",
   "execution_count": 5,
   "metadata": {},
   "outputs": [],
   "source": [
    "import pandas as pd\n",
    "from scripts import project_functions"
   ]
  },
  {
   "cell_type": "code",
   "execution_count": 6,
   "metadata": {},
   "outputs": [],
   "source": [
    "# Load data from National Names\n",
    "national_df = project_functions.load_and_process_one('../../data/raw/national/NationalNames.csv')\n",
    "# Load 4 parts of raw data on State Names\n",
    "state_df = project_functions.load_and_process_many(\"../../data/raw/state\")\n"
   ]
  },
  {
   "cell_type": "code",
   "execution_count": 7,
   "metadata": {},
   "outputs": [
    {
     "output_type": "execute_result",
     "data": {
      "text/plain": [
       "             Name  Year Gender  Count  Popular\n",
       "0            Mary  1910      F  22848     True\n",
       "1           Helen  1910      F  10479     True\n",
       "2        Margaret  1910      F   8226     True\n",
       "3         Dorothy  1910      F   7318     True\n",
       "4            Ruth  1910      F   7212     True\n",
       "...           ...   ...    ...    ...      ...\n",
       "1736485    Zykeem  2014      M      5    False\n",
       "1736486    Zymeer  2014      M      5    False\n",
       "1736487   Zymiere  2014      M      5    False\n",
       "1736488     Zyran  2014      M      5    False\n",
       "1736489     Zyrin  2014      M      5    False\n",
       "\n",
       "[1736490 rows x 5 columns]"
      ],
      "text/html": "<div>\n<style scoped>\n    .dataframe tbody tr th:only-of-type {\n        vertical-align: middle;\n    }\n\n    .dataframe tbody tr th {\n        vertical-align: top;\n    }\n\n    .dataframe thead th {\n        text-align: right;\n    }\n</style>\n<table border=\"1\" class=\"dataframe\">\n  <thead>\n    <tr style=\"text-align: right;\">\n      <th></th>\n      <th>Name</th>\n      <th>Year</th>\n      <th>Gender</th>\n      <th>Count</th>\n      <th>Popular</th>\n    </tr>\n  </thead>\n  <tbody>\n    <tr>\n      <th>0</th>\n      <td>Mary</td>\n      <td>1910</td>\n      <td>F</td>\n      <td>22848</td>\n      <td>True</td>\n    </tr>\n    <tr>\n      <th>1</th>\n      <td>Helen</td>\n      <td>1910</td>\n      <td>F</td>\n      <td>10479</td>\n      <td>True</td>\n    </tr>\n    <tr>\n      <th>2</th>\n      <td>Margaret</td>\n      <td>1910</td>\n      <td>F</td>\n      <td>8226</td>\n      <td>True</td>\n    </tr>\n    <tr>\n      <th>3</th>\n      <td>Dorothy</td>\n      <td>1910</td>\n      <td>F</td>\n      <td>7318</td>\n      <td>True</td>\n    </tr>\n    <tr>\n      <th>4</th>\n      <td>Ruth</td>\n      <td>1910</td>\n      <td>F</td>\n      <td>7212</td>\n      <td>True</td>\n    </tr>\n    <tr>\n      <th>...</th>\n      <td>...</td>\n      <td>...</td>\n      <td>...</td>\n      <td>...</td>\n      <td>...</td>\n    </tr>\n    <tr>\n      <th>1736485</th>\n      <td>Zykeem</td>\n      <td>2014</td>\n      <td>M</td>\n      <td>5</td>\n      <td>False</td>\n    </tr>\n    <tr>\n      <th>1736486</th>\n      <td>Zymeer</td>\n      <td>2014</td>\n      <td>M</td>\n      <td>5</td>\n      <td>False</td>\n    </tr>\n    <tr>\n      <th>1736487</th>\n      <td>Zymiere</td>\n      <td>2014</td>\n      <td>M</td>\n      <td>5</td>\n      <td>False</td>\n    </tr>\n    <tr>\n      <th>1736488</th>\n      <td>Zyran</td>\n      <td>2014</td>\n      <td>M</td>\n      <td>5</td>\n      <td>False</td>\n    </tr>\n    <tr>\n      <th>1736489</th>\n      <td>Zyrin</td>\n      <td>2014</td>\n      <td>M</td>\n      <td>5</td>\n      <td>False</td>\n    </tr>\n  </tbody>\n</table>\n<p>1736490 rows × 5 columns</p>\n</div>"
     },
     "metadata": {},
     "execution_count": 7
    }
   ],
   "source": [
    "national_df"
   ]
  },
  {
   "cell_type": "code",
   "execution_count": 8,
   "metadata": {},
   "outputs": [
    {
     "output_type": "execute_result",
     "data": {
      "text/plain": [
       "             Name  Year Gender State  Count  Popular\n",
       "0            Mary  1910      F    AK     14    False\n",
       "1           Annie  1910      F    AK     12    False\n",
       "2            Anna  1910      F    AK     10    False\n",
       "3        Margaret  1910      F    AK      8    False\n",
       "4           Helen  1910      F    AK      7    False\n",
       "...           ...   ...    ...   ...    ...      ...\n",
       "5647421      Seth  2014      M    WY      5    False\n",
       "5647422   Spencer  2014      M    WY      5    False\n",
       "5647423      Tyce  2014      M    WY      5    False\n",
       "5647424    Victor  2014      M    WY      5    False\n",
       "5647425    Waylon  2014      M    WY      5    False\n",
       "\n",
       "[5647426 rows x 6 columns]"
      ],
      "text/html": "<div>\n<style scoped>\n    .dataframe tbody tr th:only-of-type {\n        vertical-align: middle;\n    }\n\n    .dataframe tbody tr th {\n        vertical-align: top;\n    }\n\n    .dataframe thead th {\n        text-align: right;\n    }\n</style>\n<table border=\"1\" class=\"dataframe\">\n  <thead>\n    <tr style=\"text-align: right;\">\n      <th></th>\n      <th>Name</th>\n      <th>Year</th>\n      <th>Gender</th>\n      <th>State</th>\n      <th>Count</th>\n      <th>Popular</th>\n    </tr>\n  </thead>\n  <tbody>\n    <tr>\n      <th>0</th>\n      <td>Mary</td>\n      <td>1910</td>\n      <td>F</td>\n      <td>AK</td>\n      <td>14</td>\n      <td>False</td>\n    </tr>\n    <tr>\n      <th>1</th>\n      <td>Annie</td>\n      <td>1910</td>\n      <td>F</td>\n      <td>AK</td>\n      <td>12</td>\n      <td>False</td>\n    </tr>\n    <tr>\n      <th>2</th>\n      <td>Anna</td>\n      <td>1910</td>\n      <td>F</td>\n      <td>AK</td>\n      <td>10</td>\n      <td>False</td>\n    </tr>\n    <tr>\n      <th>3</th>\n      <td>Margaret</td>\n      <td>1910</td>\n      <td>F</td>\n      <td>AK</td>\n      <td>8</td>\n      <td>False</td>\n    </tr>\n    <tr>\n      <th>4</th>\n      <td>Helen</td>\n      <td>1910</td>\n      <td>F</td>\n      <td>AK</td>\n      <td>7</td>\n      <td>False</td>\n    </tr>\n    <tr>\n      <th>...</th>\n      <td>...</td>\n      <td>...</td>\n      <td>...</td>\n      <td>...</td>\n      <td>...</td>\n      <td>...</td>\n    </tr>\n    <tr>\n      <th>5647421</th>\n      <td>Seth</td>\n      <td>2014</td>\n      <td>M</td>\n      <td>WY</td>\n      <td>5</td>\n      <td>False</td>\n    </tr>\n    <tr>\n      <th>5647422</th>\n      <td>Spencer</td>\n      <td>2014</td>\n      <td>M</td>\n      <td>WY</td>\n      <td>5</td>\n      <td>False</td>\n    </tr>\n    <tr>\n      <th>5647423</th>\n      <td>Tyce</td>\n      <td>2014</td>\n      <td>M</td>\n      <td>WY</td>\n      <td>5</td>\n      <td>False</td>\n    </tr>\n    <tr>\n      <th>5647424</th>\n      <td>Victor</td>\n      <td>2014</td>\n      <td>M</td>\n      <td>WY</td>\n      <td>5</td>\n      <td>False</td>\n    </tr>\n    <tr>\n      <th>5647425</th>\n      <td>Waylon</td>\n      <td>2014</td>\n      <td>M</td>\n      <td>WY</td>\n      <td>5</td>\n      <td>False</td>\n    </tr>\n  </tbody>\n</table>\n<p>5647426 rows × 6 columns</p>\n</div>"
     },
     "metadata": {},
     "execution_count": 8
    }
   ],
   "source": [
    "state_df"
   ]
  }
 ],
 "metadata": {
  "kernelspec": {
   "display_name": "Python 3",
   "language": "python",
   "name": "python3"
  },
  "language_info": {
   "codemirror_mode": {
    "name": "ipython",
    "version": 3
   },
   "file_extension": ".py",
   "mimetype": "text/x-python",
   "name": "python",
   "nbconvert_exporter": "python",
   "pygments_lexer": "ipython3",
   "version": "3.8.5-final"
  }
 },
 "nbformat": 4,
 "nbformat_minor": 4
}