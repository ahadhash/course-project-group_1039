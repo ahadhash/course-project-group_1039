{
 "cells": [
  {
   "cell_type": "code",
   "execution_count": null,
   "metadata": {},
   "outputs": [],
   "source": [
    "import pandas as pd\n",
    "\n",
    "\n",
    "# Load data on National Names dataframe\n",
    "national_df = pd.read_csv('../../data/raw/NationalNames.csv',delimiter=',')\n",
    "\n",
    "# Load 4 parts of raw data on State Names dataframe\n",
    "parts = list()\n",
    "for i in range(1,5):\n",
    "    path = f'../../data/raw/StateNames_{i}.csv'\n",
    "    part = pd.read_csv(path,delimiter=',')\n",
    "    parts.append(part)\n",
    "\n",
    "state_df = pd.concat(parts,axis=0,ignore_index=True)"
   ]
  },
  {
   "cell_type": "code",
   "execution_count": null,
   "metadata": {},
   "outputs": [],
   "source": [
    "state_df"
   ]
  },
  {
   "cell_type": "code",
   "execution_count": null,
   "metadata": {},
   "outputs": [],
   "source": [
    "national_df.head(10)"
   ]
  }
 ],
 "metadata": {
  "kernelspec": {
   "display_name": "Python 3.7.3 64-bit",
   "language": "python",
   "name": "python_defaultSpec_1613515601563"
  },
  "language_info": {
   "codemirror_mode": {
    "name": "ipython",
    "version": 3
   },
   "file_extension": ".py",
   "mimetype": "text/x-python",
   "name": "python",
   "nbconvert_exporter": "python",
   "pygments_lexer": "ipython3",
   "version": "3.8.5"
  }
 },
 "nbformat": 4,
 "nbformat_minor": 4
}