{
 "cells": [
  {
   "cell_type": "code",
   "execution_count": 3,
   "metadata": {},
   "outputs": [],
   "source": [
    "import pandas as pd\n",
    "\n",
    "\n",
    "# Load data on National Names dataframe\n",
    "national_df = pd.read_csv('../../data/raw/NationalNames.csv',delimiter=',')\n",
    "\n",
    "# Load 4 parts of raw data on State Names dataframe\n",
    "parts = list()\n",
    "for i in range(1,5):\n",
    "    path = f'../../data/raw/StateNames_{i}.csv'\n",
    "    part = pd.read_csv(path,delimiter=',')\n",
    "    parts.append(part)\n",
    "\n",
    "state_df = pd.concat(parts,axis=0,ignore_index=True)"
   ]
  },
  {
   "cell_type": "code",
   "execution_count": 6,
   "metadata": {},
   "outputs": [
    {
     "output_type": "execute_result",
     "data": {
      "text/plain": "   Id      Name  Year Gender State  Count\n0   1      Mary  1910      F    AK     14\n1   2     Annie  1910      F    AK     12\n2   3      Anna  1910      F    AK     10\n3   4  Margaret  1910      F    AK      8\n4   5     Helen  1910      F    AK      7\n5   6     Elsie  1910      F    AK      6\n6   7      Lucy  1910      F    AK      6\n7   8   Dorothy  1910      F    AK      5\n8   9      Mary  1911      F    AK     12\n9  10  Margaret  1911      F    AK      7",
      "text/html": "<div>\n<style scoped>\n    .dataframe tbody tr th:only-of-type {\n        vertical-align: middle;\n    }\n\n    .dataframe tbody tr th {\n        vertical-align: top;\n    }\n\n    .dataframe thead th {\n        text-align: right;\n    }\n</style>\n<table border=\"1\" class=\"dataframe\">\n  <thead>\n    <tr style=\"text-align: right;\">\n      <th></th>\n      <th>Id</th>\n      <th>Name</th>\n      <th>Year</th>\n      <th>Gender</th>\n      <th>State</th>\n      <th>Count</th>\n    </tr>\n  </thead>\n  <tbody>\n    <tr>\n      <th>0</th>\n      <td>1</td>\n      <td>Mary</td>\n      <td>1910</td>\n      <td>F</td>\n      <td>AK</td>\n      <td>14</td>\n    </tr>\n    <tr>\n      <th>1</th>\n      <td>2</td>\n      <td>Annie</td>\n      <td>1910</td>\n      <td>F</td>\n      <td>AK</td>\n      <td>12</td>\n    </tr>\n    <tr>\n      <th>2</th>\n      <td>3</td>\n      <td>Anna</td>\n      <td>1910</td>\n      <td>F</td>\n      <td>AK</td>\n      <td>10</td>\n    </tr>\n    <tr>\n      <th>3</th>\n      <td>4</td>\n      <td>Margaret</td>\n      <td>1910</td>\n      <td>F</td>\n      <td>AK</td>\n      <td>8</td>\n    </tr>\n    <tr>\n      <th>4</th>\n      <td>5</td>\n      <td>Helen</td>\n      <td>1910</td>\n      <td>F</td>\n      <td>AK</td>\n      <td>7</td>\n    </tr>\n    <tr>\n      <th>5</th>\n      <td>6</td>\n      <td>Elsie</td>\n      <td>1910</td>\n      <td>F</td>\n      <td>AK</td>\n      <td>6</td>\n    </tr>\n    <tr>\n      <th>6</th>\n      <td>7</td>\n      <td>Lucy</td>\n      <td>1910</td>\n      <td>F</td>\n      <td>AK</td>\n      <td>6</td>\n    </tr>\n    <tr>\n      <th>7</th>\n      <td>8</td>\n      <td>Dorothy</td>\n      <td>1910</td>\n      <td>F</td>\n      <td>AK</td>\n      <td>5</td>\n    </tr>\n    <tr>\n      <th>8</th>\n      <td>9</td>\n      <td>Mary</td>\n      <td>1911</td>\n      <td>F</td>\n      <td>AK</td>\n      <td>12</td>\n    </tr>\n    <tr>\n      <th>9</th>\n      <td>10</td>\n      <td>Margaret</td>\n      <td>1911</td>\n      <td>F</td>\n      <td>AK</td>\n      <td>7</td>\n    </tr>\n  </tbody>\n</table>\n</div>"
     },
     "metadata": {},
     "execution_count": 6
    }
   ],
   "source": [
    "state_df.head(15)"
   ]
  },
  {
   "cell_type": "code",
   "execution_count": 9,
   "metadata": {},
   "outputs": [
    {
     "output_type": "execute_result",
     "data": {
      "text/plain": "   Id       Name  Year Gender  Count\n0   1       Mary  1880      F   7065\n1   2       Anna  1880      F   2604\n2   3       Emma  1880      F   2003\n3   4  Elizabeth  1880      F   1939\n4   5     Minnie  1880      F   1746\n5   6   Margaret  1880      F   1578\n6   7        Ida  1880      F   1472\n7   8      Alice  1880      F   1414\n8   9     Bertha  1880      F   1320\n9  10      Sarah  1880      F   1288",
      "text/html": "<div>\n<style scoped>\n    .dataframe tbody tr th:only-of-type {\n        vertical-align: middle;\n    }\n\n    .dataframe tbody tr th {\n        vertical-align: top;\n    }\n\n    .dataframe thead th {\n        text-align: right;\n    }\n</style>\n<table border=\"1\" class=\"dataframe\">\n  <thead>\n    <tr style=\"text-align: right;\">\n      <th></th>\n      <th>Id</th>\n      <th>Name</th>\n      <th>Year</th>\n      <th>Gender</th>\n      <th>Count</th>\n    </tr>\n  </thead>\n  <tbody>\n    <tr>\n      <th>0</th>\n      <td>1</td>\n      <td>Mary</td>\n      <td>1880</td>\n      <td>F</td>\n      <td>7065</td>\n    </tr>\n    <tr>\n      <th>1</th>\n      <td>2</td>\n      <td>Anna</td>\n      <td>1880</td>\n      <td>F</td>\n      <td>2604</td>\n    </tr>\n    <tr>\n      <th>2</th>\n      <td>3</td>\n      <td>Emma</td>\n      <td>1880</td>\n      <td>F</td>\n      <td>2003</td>\n    </tr>\n    <tr>\n      <th>3</th>\n      <td>4</td>\n      <td>Elizabeth</td>\n      <td>1880</td>\n      <td>F</td>\n      <td>1939</td>\n    </tr>\n    <tr>\n      <th>4</th>\n      <td>5</td>\n      <td>Minnie</td>\n      <td>1880</td>\n      <td>F</td>\n      <td>1746</td>\n    </tr>\n    <tr>\n      <th>5</th>\n      <td>6</td>\n      <td>Margaret</td>\n      <td>1880</td>\n      <td>F</td>\n      <td>1578</td>\n    </tr>\n    <tr>\n      <th>6</th>\n      <td>7</td>\n      <td>Ida</td>\n      <td>1880</td>\n      <td>F</td>\n      <td>1472</td>\n    </tr>\n    <tr>\n      <th>7</th>\n      <td>8</td>\n      <td>Alice</td>\n      <td>1880</td>\n      <td>F</td>\n      <td>1414</td>\n    </tr>\n    <tr>\n      <th>8</th>\n      <td>9</td>\n      <td>Bertha</td>\n      <td>1880</td>\n      <td>F</td>\n      <td>1320</td>\n    </tr>\n    <tr>\n      <th>9</th>\n      <td>10</td>\n      <td>Sarah</td>\n      <td>1880</td>\n      <td>F</td>\n      <td>1288</td>\n    </tr>\n  </tbody>\n</table>\n</div>"
     },
     "metadata": {},
     "execution_count": 9
    }
   ],
   "source": [
    "national_df.head(15)"
   ]
  }
 ],
 "metadata": {
  "kernelspec": {
   "display_name": "Python 3.9.1 64-bit",
   "language": "python",
   "name": "python_defaultSpec_1613519349594"
  },
  "language_info": {
   "codemirror_mode": {
    "name": "ipython",
    "version": 3
   },
   "file_extension": ".py",
   "mimetype": "text/x-python",
   "name": "python",
   "nbconvert_exporter": "python",
   "pygments_lexer": "ipython3",
   "version": "3.8.5"
  }
 },
 "nbformat": 4,
 "nbformat_minor": 4
}