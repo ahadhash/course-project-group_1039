{
 "cells": [
  {
   "cell_type": "markdown",
   "id": "straight-kansas",
   "metadata": {},
   "source": [
    "# Task 5: Group Analysis\n",
    "\n",
    "After individual analysis, we will be performing analysing the US baby name dataframe as a team here. \n",
    "Jamie and Rita analyze the states level csv file and Leo analyze the National level csv file.\n",
    "After discussion, we will be answering the three research questions as following:\n",
    "\n",
    "### Research Question 1\n",
    "\n",
    "What is the top 5 names from 1910 to 2015 in the US? How similar is it with the top 5 names in four US regions (North_East, South, West, Middle_West)?\n",
    "\n",
    "### Research Question 2\n",
    "\n",
    "Compare the most popular name at the state and national level in a decade: What is the most popular name in each year from 2000-2014?\n",
    "\n",
    "\n",
    "### Research Question 3\n",
    "What is the most popular national female name from 1910-2015? How about in each of the four regions? When does this name become popular (trend)? \n"
   ]
  },
  {
   "cell_type": "code",
   "execution_count": 2,
   "id": "computational-turning",
   "metadata": {},
   "outputs": [],
   "source": [
    "import pandas as pd\n",
    "import seaborn as sns\n",
    "import numpy as np\n",
    "import matplotlib.pyplot as plt\n",
    "from scripts import project_functions as pf"
   ]
  },
  {
   "cell_type": "code",
   "execution_count": 5,
   "id": "rocky-effect",
   "metadata": {},
   "outputs": [
    {
     "ename": "FileExistsError",
     "evalue": "Path does not exist.",
     "output_type": "error",
     "traceback": [
      "\u001b[0;31m---------------------------------------------------------------------------\u001b[0m",
      "\u001b[0;31mFileExistsError\u001b[0m                           Traceback (most recent call last)",
      "\u001b[0;32m<ipython-input-5-66008b3cfe27>\u001b[0m in \u001b[0;36m<module>\u001b[0;34m\u001b[0m\n\u001b[1;32m      1\u001b[0m \u001b[0;31m# Load 4 parts of raw data on State Names\u001b[0m\u001b[0;34m\u001b[0m\u001b[0;34m\u001b[0m\u001b[0;34m\u001b[0m\u001b[0m\n\u001b[0;32m----> 2\u001b[0;31m \u001b[0mstate_df\u001b[0m \u001b[0;34m=\u001b[0m \u001b[0mpf\u001b[0m\u001b[0;34m.\u001b[0m\u001b[0mload_and_process_many\u001b[0m\u001b[0;34m(\u001b[0m\u001b[0;34m\"../../data/raw/state\"\u001b[0m\u001b[0;34m)\u001b[0m\u001b[0;34m\u001b[0m\u001b[0;34m\u001b[0m\u001b[0m\n\u001b[0m",
      "\u001b[0;32m~/Data301/course-project-group_1039/analysis/scripts/project_functions.py\u001b[0m in \u001b[0;36mload_and_process_many\u001b[0;34m(source)\u001b[0m\n\u001b[1;32m     24\u001b[0m         \u001b[0;32mraise\u001b[0m \u001b[0mTypeError\u001b[0m\u001b[0;34m(\u001b[0m\u001b[0;34m\"Expecting 1 argument but 0 argument is passed.\"\u001b[0m\u001b[0;34m)\u001b[0m\u001b[0;34m\u001b[0m\u001b[0;34m\u001b[0m\u001b[0m\n\u001b[1;32m     25\u001b[0m     \u001b[0;32melif\u001b[0m \u001b[0;32mnot\u001b[0m \u001b[0mos\u001b[0m\u001b[0;34m.\u001b[0m\u001b[0mpath\u001b[0m\u001b[0;34m.\u001b[0m\u001b[0mexists\u001b[0m\u001b[0;34m(\u001b[0m\u001b[0msource\u001b[0m\u001b[0;34m)\u001b[0m\u001b[0;34m:\u001b[0m\u001b[0;34m\u001b[0m\u001b[0;34m\u001b[0m\u001b[0m\n\u001b[0;32m---> 26\u001b[0;31m         \u001b[0;32mraise\u001b[0m \u001b[0mFileExistsError\u001b[0m\u001b[0;34m(\u001b[0m\u001b[0;34m\"Path does not exist.\"\u001b[0m\u001b[0;34m)\u001b[0m\u001b[0;34m\u001b[0m\u001b[0;34m\u001b[0m\u001b[0m\n\u001b[0m\u001b[1;32m     27\u001b[0m     \u001b[0;32melif\u001b[0m \u001b[0;32mnot\u001b[0m \u001b[0mos\u001b[0m\u001b[0;34m.\u001b[0m\u001b[0mpath\u001b[0m\u001b[0;34m.\u001b[0m\u001b[0misdir\u001b[0m\u001b[0;34m(\u001b[0m\u001b[0msource\u001b[0m\u001b[0;34m)\u001b[0m\u001b[0;34m:\u001b[0m\u001b[0;34m\u001b[0m\u001b[0;34m\u001b[0m\u001b[0m\n\u001b[1;32m     28\u001b[0m         \u001b[0;32mraise\u001b[0m \u001b[0mTypeError\u001b[0m\u001b[0;34m(\u001b[0m\u001b[0;34m\"Path is not a directory.\"\u001b[0m\u001b[0;34m)\u001b[0m\u001b[0;34m\u001b[0m\u001b[0;34m\u001b[0m\u001b[0m\n",
      "\u001b[0;31mFileExistsError\u001b[0m: Path does not exist."
     ]
    }
   ],
   "source": [
    "# Load 4 parts of raw data on State Names\n",
    "state_df = pf.load_and_process_many(\"../../data/raw/state\")\n",
    "\n",
    "# Note that the project_fuctions module includes list of abbreviations for states separated in regions\n",
    "# import the regional datasets\n",
    "n_df = state_df.loc[state_df[\"State\"].isin(pf.NORTH_EAST)].reset_index(drop=True)\n",
    "s_df = state_df.loc[state_df[\"State\"].isin(pf.SOUTH)].reset_index(drop=True)\n",
    "mw_df = state_df.loc[state_df[\"State\"].isin(pf.MID_WEST)].reset_index(drop=True)\n",
    "west_df = state_df.loc[state_df[\"State\"].isin(pf.WEST)].reset_index(drop=True)"
   ]
  },
  {
   "cell_type": "code",
   "execution_count": null,
   "id": "velvet-elimination",
   "metadata": {},
   "outputs": [],
   "source": [
    "# Define processing function\n",
    "def get_top5_all_time(data=None):\n",
    "    if data is None:\n",
    "        return data\n",
    "    return (data.groupby(by=\"Name\")\n",
    "              .aggregate(\"sum\")\n",
    "              .drop(columns=[\"Year\"]) # We do not analyze with time\n",
    "              .reset_index()\n",
    "              .sort_values(by=\"Count\", ascending=False)\n",
    "              .head()\n",
    "           )\n",
    "# For the middle_west\n",
    "top5_mw = get_top5_all_time(mw_df)\n",
    "# For the west\n",
    "top5_west = get_top5_all_time(west_df)\n",
    "# For the North\n",
    "top5_n = get_top5_all_time(n_df)\n",
    "# For the south\n",
    "top5_s = get_top5_all_time(s_df)"
   ]
  },
  {
   "cell_type": "code",
   "execution_count": null,
   "id": "completed-tucson",
   "metadata": {},
   "outputs": [],
   "source": []
  }
 ],
 "metadata": {
  "kernelspec": {
   "display_name": "Python 3",
   "language": "python",
   "name": "python3"
  },
  "language_info": {
   "codemirror_mode": {
    "name": "ipython",
    "version": 3
   },
   "file_extension": ".py",
   "mimetype": "text/x-python",
   "name": "python",
   "nbconvert_exporter": "python",
   "pygments_lexer": "ipython3",
   "version": "3.8.5"
  }
 },
 "nbformat": 4,
 "nbformat_minor": 5
}
