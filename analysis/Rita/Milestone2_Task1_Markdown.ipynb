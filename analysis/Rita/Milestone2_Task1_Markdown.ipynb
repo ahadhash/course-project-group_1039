{
 "cells": [
  {
   "cell_type": "markdown",
   "metadata": {},
   "source": [
    "# Hello My name is **Rita Lam**\n",
    "\n",
    "I graduated from UBCO last year with an honors in **Microbiology** degree and now I am first year master student in **Applied Science** program. My research is in Biomedical Engineering and you can get information from our lab website https://pakpourlab.ca/\n",
    "\n",
    "One thing you need to know about me is I love ***FOOD***. I Love cooking love wine as well. If there is no covid I am probably working in a winery. "
   ]
  }
 ],
 "metadata": {
  "kernelspec": {
   "display_name": "Python 3",
   "language": "python",
   "name": "python3"
  },
  "language_info": {
   "codemirror_mode": {
    "name": "ipython",
    "version": 3
   },
   "file_extension": ".py",
   "mimetype": "text/x-python",
   "name": "python",
   "nbconvert_exporter": "python",
   "pygments_lexer": "ipython3",
   "version": "3.8.5"
  }
 },
 "nbformat": 4,
 "nbformat_minor": 4
}
