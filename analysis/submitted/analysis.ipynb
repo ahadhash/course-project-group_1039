{
 "cells": [
  {
   "cell_type": "markdown",
   "id": "toxic-timeline",
   "metadata": {},
   "source": [
    "# Task 5: Group Analysis\n",
    "\n",
    "After individual analysis, we will be performing analysing the US baby name dataframe as a team here. \n",
    "Jamie and Rita analyze the states level csv file and Leo analyze the National level csv file.\n",
    "After discussion, we will be answering the three research questions as following:\n",
    "\n",
    "### Research Question 1\n",
    "\n",
    "What is the top 5 names from 1910 to 2015 in the US? How similar is it with the top 5 names in four US regions (North_East, South, West, Middle_West)?\n",
    "\n",
    "### Research Question 2\n",
    "\n",
    "Compare the most popular name at the state and national level in a decade: What is the most popular name in each year from 2000-2014?\n",
    "\n",
    "\n",
    "### Research Question 3\n",
    "What is the most popular national female name from 1910-2015? How about in each of the four regions? When does this name become popular (trend)? \n",
    "___"
   ]
  },
  {
   "source": [
    "## Importing necessary modules and seperate data into 4 regions"
   ],
   "cell_type": "markdown",
   "metadata": {}
  },
  {
   "cell_type": "code",
   "execution_count": 2,
   "id": "capital-tension",
   "metadata": {},
   "outputs": [],
   "source": [
    "import pandas as pd\n",
    "import seaborn as sns\n",
    "import numpy as np\n",
    "import matplotlib.pyplot as plt\n",
    "from scripts import project_functions as pf"
   ]
  },
  {
   "cell_type": "code",
   "execution_count": 4,
   "id": "extra-frank",
   "metadata": {},
   "outputs": [],
   "source": [
    "# Load 4 parts of raw data on State Names\n",
    "state_df = pf.load_and_process_many(\"../../data/raw/state\")\n",
    "\n",
    "# Note that the project_fuctions module includes list of abbreviations for states separated in regions\n",
    "# import the regional datasets\n",
    "def get_state_df(state_list, source=state_df):\n",
    "    return source.loc[source[\"State\"].isin(state_list)].reset_index(drop=True)\n",
    "\n",
    "\n",
    "n_df = get_state_df(pf.NORTH_EAST) # North East data set\n",
    "s_df = get_state_df(pf.SOUTH)      # South data set\n",
    "mw_df = get_state_df(pf.MID_WEST)  # Mid West data set\n",
    "w_df = get_state_df(pf.WEST)    # West data set"
   ]
  },
  {
   "cell_type": "code",
   "execution_count": 13,
   "metadata": {},
   "outputs": [
    {
     "output_type": "execute_result",
     "data": {
      "text/plain": [
       "             Name  Year Gender State  Count\n",
       "0            Mary  1910      F    AK     14\n",
       "1           Annie  1910      F    AK     12\n",
       "2            Anna  1910      F    AK     10\n",
       "3        Margaret  1910      F    AK      8\n",
       "4           Helen  1910      F    AK      7\n",
       "...           ...   ...    ...   ...    ...\n",
       "1156146      Seth  2014      M    WY      5\n",
       "1156147   Spencer  2014      M    WY      5\n",
       "1156148      Tyce  2014      M    WY      5\n",
       "1156149    Victor  2014      M    WY      5\n",
       "1156150    Waylon  2014      M    WY      5\n",
       "\n",
       "[1156151 rows x 5 columns]"
      ],
      "text/html": "<div>\n<style scoped>\n    .dataframe tbody tr th:only-of-type {\n        vertical-align: middle;\n    }\n\n    .dataframe tbody tr th {\n        vertical-align: top;\n    }\n\n    .dataframe thead th {\n        text-align: right;\n    }\n</style>\n<table border=\"1\" class=\"dataframe\">\n  <thead>\n    <tr style=\"text-align: right;\">\n      <th></th>\n      <th>Name</th>\n      <th>Year</th>\n      <th>Gender</th>\n      <th>State</th>\n      <th>Count</th>\n    </tr>\n  </thead>\n  <tbody>\n    <tr>\n      <th>0</th>\n      <td>Mary</td>\n      <td>1910</td>\n      <td>F</td>\n      <td>AK</td>\n      <td>14</td>\n    </tr>\n    <tr>\n      <th>1</th>\n      <td>Annie</td>\n      <td>1910</td>\n      <td>F</td>\n      <td>AK</td>\n      <td>12</td>\n    </tr>\n    <tr>\n      <th>2</th>\n      <td>Anna</td>\n      <td>1910</td>\n      <td>F</td>\n      <td>AK</td>\n      <td>10</td>\n    </tr>\n    <tr>\n      <th>3</th>\n      <td>Margaret</td>\n      <td>1910</td>\n      <td>F</td>\n      <td>AK</td>\n      <td>8</td>\n    </tr>\n    <tr>\n      <th>4</th>\n      <td>Helen</td>\n      <td>1910</td>\n      <td>F</td>\n      <td>AK</td>\n      <td>7</td>\n    </tr>\n    <tr>\n      <th>...</th>\n      <td>...</td>\n      <td>...</td>\n      <td>...</td>\n      <td>...</td>\n      <td>...</td>\n    </tr>\n    <tr>\n      <th>1156146</th>\n      <td>Seth</td>\n      <td>2014</td>\n      <td>M</td>\n      <td>WY</td>\n      <td>5</td>\n    </tr>\n    <tr>\n      <th>1156147</th>\n      <td>Spencer</td>\n      <td>2014</td>\n      <td>M</td>\n      <td>WY</td>\n      <td>5</td>\n    </tr>\n    <tr>\n      <th>1156148</th>\n      <td>Tyce</td>\n      <td>2014</td>\n      <td>M</td>\n      <td>WY</td>\n      <td>5</td>\n    </tr>\n    <tr>\n      <th>1156149</th>\n      <td>Victor</td>\n      <td>2014</td>\n      <td>M</td>\n      <td>WY</td>\n      <td>5</td>\n    </tr>\n    <tr>\n      <th>1156150</th>\n      <td>Waylon</td>\n      <td>2014</td>\n      <td>M</td>\n      <td>WY</td>\n      <td>5</td>\n    </tr>\n  </tbody>\n</table>\n<p>1156151 rows × 5 columns</p>\n</div>"
     },
     "metadata": {},
     "execution_count": 13
    }
   ],
   "source": [
    "# Sample data frame\n",
    "w_df"
   ]
  },
  {
   "source": [
    "## Method to get all time top 5 in each region"
   ],
   "cell_type": "markdown",
   "metadata": {}
  },
  {
   "cell_type": "code",
   "execution_count": 42,
   "id": "matched-ontario",
   "metadata": {},
   "outputs": [],
   "source": [
    "# Define processing function\n",
    "def get_top5_all_time(data=None):\n",
    "    if data is None:\n",
    "        return data\n",
    "    return (data.groupby(by=\"Name\").sum()\n",
    "              .drop(columns=[\"Year\"]) # We do not analyze with time\n",
    "              .sort_values(by=\"Count\", ascending=False)\n",
    "              .reset_index()\n",
    "              .head()\n",
    "           )\n",
    "# For the middle_west\n",
    "top5_mw = get_top5_all_time(mw_df)\n",
    "# For the west\n",
    "top5_w = get_top5_all_time(w_df)\n",
    "# For the North\n",
    "top5_n = get_top5_all_time(n_df)\n",
    "# For the south\n",
    "top5_s = get_top5_all_time(s_df)"
   ]
  },
  {
   "cell_type": "code",
   "execution_count": 43,
   "metadata": {},
   "outputs": [
    {
     "output_type": "execute_result",
     "data": {
      "text/plain": [
       "      Name   Count\n",
       "0  Michael  748282\n",
       "1   Robert  652150\n",
       "2    David  647996\n",
       "3     John  589500\n",
       "4    James  545148"
      ],
      "text/html": "<div>\n<style scoped>\n    .dataframe tbody tr th:only-of-type {\n        vertical-align: middle;\n    }\n\n    .dataframe tbody tr th {\n        vertical-align: top;\n    }\n\n    .dataframe thead th {\n        text-align: right;\n    }\n</style>\n<table border=\"1\" class=\"dataframe\">\n  <thead>\n    <tr style=\"text-align: right;\">\n      <th></th>\n      <th>Name</th>\n      <th>Count</th>\n    </tr>\n  </thead>\n  <tbody>\n    <tr>\n      <th>0</th>\n      <td>Michael</td>\n      <td>748282</td>\n    </tr>\n    <tr>\n      <th>1</th>\n      <td>Robert</td>\n      <td>652150</td>\n    </tr>\n    <tr>\n      <th>2</th>\n      <td>David</td>\n      <td>647996</td>\n    </tr>\n    <tr>\n      <th>3</th>\n      <td>John</td>\n      <td>589500</td>\n    </tr>\n    <tr>\n      <th>4</th>\n      <td>James</td>\n      <td>545148</td>\n    </tr>\n  </tbody>\n</table>\n</div>"
     },
     "metadata": {},
     "execution_count": 43
    }
   ],
   "source": [
    "# Sample data frame\n",
    "top5_w "
   ]
  },
  {
   "source": [
    "## Method to get all time top 5 based on gender"
   ],
   "cell_type": "markdown",
   "metadata": {}
  },
  {
   "cell_type": "code",
   "execution_count": 40,
   "metadata": {},
   "outputs": [],
   "source": [
    "# Function for filter data based on gender\n",
    "def get_top5_gender(data, region, gender):\n",
    "    return (data.loc[data[\"Gender\"] == gender]\n",
    "                    .groupby(by=\"Name\").sum()\n",
    "                    .sort_values(by=\"Count\", ascending=False)\n",
    "                    .head()\n",
    "                    .drop(columns=\"Year\") # We do not care about year\n",
    "                    .assign(Region=region, Gender=gender)\n",
    "                    .reset_index()\n",
    "            )\n",
    "\n",
    "# In the North East\n",
    "top5_male_n, top5_female_n = get_top5_gender(n_df, \"NE\", \"M\"), get_top5_gender(n_df, \"NE\", \"F\")\n",
    "\n",
    "# In the South\n",
    "top5_male_s, top5_female_s = get_top5_gender(s_df, \"S\", \"M\"), get_top5_gender(s_df, \"S\", \"F\")\n",
    "\n",
    "# In the West\n",
    "top5_male_w, top5_female_w = get_top5_gender(w_df, \"W\", \"M\"), get_top5_gender(w_df, \"W\", \"F\")\n",
    "\n",
    "# In the Mid West\n",
    "top5_male_mw, top5_female_mw = get_top5_gender(mw_df, \"MW\", \"M\"), get_top5_gender(mw_df, \"MW\", \"F\")                             "
   ]
  },
  {
   "cell_type": "code",
   "execution_count": 41,
   "metadata": {},
   "outputs": [
    {
     "output_type": "execute_result",
     "data": {
      "text/plain": [
       "      Name   Count Region Gender\n",
       "0  Michael  744895      W      M\n",
       "1   Robert  650605      W      M\n",
       "2    David  646280      W      M\n",
       "3     John  588235      W      M\n",
       "4    James  543933      W      M"
      ],
      "text/html": "<div>\n<style scoped>\n    .dataframe tbody tr th:only-of-type {\n        vertical-align: middle;\n    }\n\n    .dataframe tbody tr th {\n        vertical-align: top;\n    }\n\n    .dataframe thead th {\n        text-align: right;\n    }\n</style>\n<table border=\"1\" class=\"dataframe\">\n  <thead>\n    <tr style=\"text-align: right;\">\n      <th></th>\n      <th>Name</th>\n      <th>Count</th>\n      <th>Region</th>\n      <th>Gender</th>\n    </tr>\n  </thead>\n  <tbody>\n    <tr>\n      <th>0</th>\n      <td>Michael</td>\n      <td>744895</td>\n      <td>W</td>\n      <td>M</td>\n    </tr>\n    <tr>\n      <th>1</th>\n      <td>Robert</td>\n      <td>650605</td>\n      <td>W</td>\n      <td>M</td>\n    </tr>\n    <tr>\n      <th>2</th>\n      <td>David</td>\n      <td>646280</td>\n      <td>W</td>\n      <td>M</td>\n    </tr>\n    <tr>\n      <th>3</th>\n      <td>John</td>\n      <td>588235</td>\n      <td>W</td>\n      <td>M</td>\n    </tr>\n    <tr>\n      <th>4</th>\n      <td>James</td>\n      <td>543933</td>\n      <td>W</td>\n      <td>M</td>\n    </tr>\n  </tbody>\n</table>\n</div>"
     },
     "metadata": {},
     "execution_count": 41
    }
   ],
   "source": [
    "# Sample data frame\n",
    "top5_male_w"
   ]
  },
  {
   "cell_type": "code",
   "execution_count": 32,
   "metadata": {},
   "outputs": [
    {
     "output_type": "execute_result",
     "data": {
      "text/plain": [
       "        Name   Count Region Gender\n",
       "0       Mary  339339      W      F\n",
       "1   Jennifer  301413      W      F\n",
       "2    Jessica  234652      W      F\n",
       "3  Elizabeth  228588      W      F\n",
       "4   Patricia  208413      W      F"
      ],
      "text/html": "<div>\n<style scoped>\n    .dataframe tbody tr th:only-of-type {\n        vertical-align: middle;\n    }\n\n    .dataframe tbody tr th {\n        vertical-align: top;\n    }\n\n    .dataframe thead th {\n        text-align: right;\n    }\n</style>\n<table border=\"1\" class=\"dataframe\">\n  <thead>\n    <tr style=\"text-align: right;\">\n      <th></th>\n      <th>Name</th>\n      <th>Count</th>\n      <th>Region</th>\n      <th>Gender</th>\n    </tr>\n  </thead>\n  <tbody>\n    <tr>\n      <th>0</th>\n      <td>Mary</td>\n      <td>339339</td>\n      <td>W</td>\n      <td>F</td>\n    </tr>\n    <tr>\n      <th>1</th>\n      <td>Jennifer</td>\n      <td>301413</td>\n      <td>W</td>\n      <td>F</td>\n    </tr>\n    <tr>\n      <th>2</th>\n      <td>Jessica</td>\n      <td>234652</td>\n      <td>W</td>\n      <td>F</td>\n    </tr>\n    <tr>\n      <th>3</th>\n      <td>Elizabeth</td>\n      <td>228588</td>\n      <td>W</td>\n      <td>F</td>\n    </tr>\n    <tr>\n      <th>4</th>\n      <td>Patricia</td>\n      <td>208413</td>\n      <td>W</td>\n      <td>F</td>\n    </tr>\n  </tbody>\n</table>\n</div>"
     },
     "metadata": {},
     "execution_count": 32
    }
   ],
   "source": [
    "top5_female_w"
   ]
  },
  {
   "source": [
    "## Method to get most popular female name in 1910 and its proportion from 1910 to 2015"
   ],
   "cell_type": "markdown",
   "metadata": {}
  },
  {
   "cell_type": "code",
   "execution_count": 38,
   "metadata": {},
   "outputs": [],
   "source": [
    "def get_top_1910_fname(data, region=None):\n",
    "    if data is None:\n",
    "        return data\n",
    "    top_fname = (data.loc[data[\"Year\"] == 1910]\n",
    "                   .groupby(by=\"Name\").sum()\n",
    "                   .drop(columns=\"Year\")\n",
    "                   .sort_values(by=\"Count\", ascending=False)\n",
    "                   .index[0]\n",
    "                )\n",
    "    # Pivot table of Years vs Name \n",
    "    fname_year = (data.loc[data[\"Name\"] == top_fname]\n",
    "                .pivot_table(index=\"Year\",columns=\"Name\",values=\"Count\", aggfunc=np.sum)\n",
    "            )\n",
    "    # Find the total count in each year\n",
    "    y = data.groupby(by=\"Year\").agg(np.sum)\n",
    "\n",
    "    # Divide each row (year) by the total of that year\n",
    "    for year in range(1910, 2015):\n",
    "        fname_year.loc[year,:] = fname_year.loc[year,:]/y.loc[year,\"Count\"]\n",
    "\n",
    "    return fname_year\n",
    "\n",
    "# Top female name of North East in 1910 and its trend\n",
    "f_name_n = get_top_1910_fname(data=n_df, region=\"NE\")\n",
    "\n",
    "# Top female name of North East in 1910 and its trend\n",
    "f_name_s = get_top_1910_fname(data=s_df, region=\"S\")\n",
    "\n",
    "# Top female name of North East in 1910 and its trend\n",
    "f_name_w = get_top_1910_fname(data=w_df, region=\"W\")\n",
    "\n",
    "# Top female name of North East in 1910 and its trend\n",
    "f_name_mw = get_top_1910_fname(data=mw_df, region=\"MW\")\n"
   ]
  },
  {
   "cell_type": "code",
   "execution_count": 39,
   "metadata": {},
   "outputs": [
    {
     "output_type": "execute_result",
     "data": {
      "text/plain": [
       "Name      Mary\n",
       "Year          \n",
       "1910  0.042355\n",
       "1911  0.042245\n",
       "1912  0.034384\n",
       "1913  0.030812\n",
       "1914  0.030345\n",
       "...        ...\n",
       "2010  0.000531\n",
       "2011  0.000519\n",
       "2012  0.000493\n",
       "2013  0.000538\n",
       "2014  0.000501\n",
       "\n",
       "[105 rows x 1 columns]"
      ],
      "text/html": "<div>\n<style scoped>\n    .dataframe tbody tr th:only-of-type {\n        vertical-align: middle;\n    }\n\n    .dataframe tbody tr th {\n        vertical-align: top;\n    }\n\n    .dataframe thead th {\n        text-align: right;\n    }\n</style>\n<table border=\"1\" class=\"dataframe\">\n  <thead>\n    <tr style=\"text-align: right;\">\n      <th>Name</th>\n      <th>Mary</th>\n    </tr>\n    <tr>\n      <th>Year</th>\n      <th></th>\n    </tr>\n  </thead>\n  <tbody>\n    <tr>\n      <th>1910</th>\n      <td>0.042355</td>\n    </tr>\n    <tr>\n      <th>1911</th>\n      <td>0.042245</td>\n    </tr>\n    <tr>\n      <th>1912</th>\n      <td>0.034384</td>\n    </tr>\n    <tr>\n      <th>1913</th>\n      <td>0.030812</td>\n    </tr>\n    <tr>\n      <th>1914</th>\n      <td>0.030345</td>\n    </tr>\n    <tr>\n      <th>...</th>\n      <td>...</td>\n    </tr>\n    <tr>\n      <th>2010</th>\n      <td>0.000531</td>\n    </tr>\n    <tr>\n      <th>2011</th>\n      <td>0.000519</td>\n    </tr>\n    <tr>\n      <th>2012</th>\n      <td>0.000493</td>\n    </tr>\n    <tr>\n      <th>2013</th>\n      <td>0.000538</td>\n    </tr>\n    <tr>\n      <th>2014</th>\n      <td>0.000501</td>\n    </tr>\n  </tbody>\n</table>\n<p>105 rows × 1 columns</p>\n</div>"
     },
     "metadata": {},
     "execution_count": 39
    }
   ],
   "source": [
    "# Sample data frame\n",
    "f_name_w "
   ]
  },
  {
   "source": [
    "## Method to get most popular name in a decade"
   ],
   "cell_type": "markdown",
   "metadata": {}
  },
  {
   "cell_type": "code",
   "execution_count": 80,
   "metadata": {},
   "outputs": [
    {
     "output_type": "execute_result",
     "data": {
      "text/plain": [
       "        Name  Year  Count\n",
       "0      Jacob  2000  12405\n",
       "1      Jacob  2001  11839\n",
       "2      Jacob  2002  11228\n",
       "3      Jacob  2003  11063\n",
       "4      Jacob  2004  10611\n",
       "5      Jacob  2005   9699\n",
       "6      Jacob  2006   9351\n",
       "7      Jacob  2007   9222\n",
       "8      Jacob  2008   8424\n",
       "9     Jayden  2009   7982\n",
       "10  Isabella  2010   8421\n",
       "11   William  2011   7641\n",
       "12      Emma  2012   7791\n",
       "13      Emma  2013   7899\n",
       "14      Emma  2014   7823"
      ],
      "text/html": "<div>\n<style scoped>\n    .dataframe tbody tr th:only-of-type {\n        vertical-align: middle;\n    }\n\n    .dataframe tbody tr th {\n        vertical-align: top;\n    }\n\n    .dataframe thead th {\n        text-align: right;\n    }\n</style>\n<table border=\"1\" class=\"dataframe\">\n  <thead>\n    <tr style=\"text-align: right;\">\n      <th></th>\n      <th>Name</th>\n      <th>Year</th>\n      <th>Count</th>\n    </tr>\n  </thead>\n  <tbody>\n    <tr>\n      <th>0</th>\n      <td>Jacob</td>\n      <td>2000</td>\n      <td>12405</td>\n    </tr>\n    <tr>\n      <th>1</th>\n      <td>Jacob</td>\n      <td>2001</td>\n      <td>11839</td>\n    </tr>\n    <tr>\n      <th>2</th>\n      <td>Jacob</td>\n      <td>2002</td>\n      <td>11228</td>\n    </tr>\n    <tr>\n      <th>3</th>\n      <td>Jacob</td>\n      <td>2003</td>\n      <td>11063</td>\n    </tr>\n    <tr>\n      <th>4</th>\n      <td>Jacob</td>\n      <td>2004</td>\n      <td>10611</td>\n    </tr>\n    <tr>\n      <th>5</th>\n      <td>Jacob</td>\n      <td>2005</td>\n      <td>9699</td>\n    </tr>\n    <tr>\n      <th>6</th>\n      <td>Jacob</td>\n      <td>2006</td>\n      <td>9351</td>\n    </tr>\n    <tr>\n      <th>7</th>\n      <td>Jacob</td>\n      <td>2007</td>\n      <td>9222</td>\n    </tr>\n    <tr>\n      <th>8</th>\n      <td>Jacob</td>\n      <td>2008</td>\n      <td>8424</td>\n    </tr>\n    <tr>\n      <th>9</th>\n      <td>Jayden</td>\n      <td>2009</td>\n      <td>7982</td>\n    </tr>\n    <tr>\n      <th>10</th>\n      <td>Isabella</td>\n      <td>2010</td>\n      <td>8421</td>\n    </tr>\n    <tr>\n      <th>11</th>\n      <td>William</td>\n      <td>2011</td>\n      <td>7641</td>\n    </tr>\n    <tr>\n      <th>12</th>\n      <td>Emma</td>\n      <td>2012</td>\n      <td>7791</td>\n    </tr>\n    <tr>\n      <th>13</th>\n      <td>Emma</td>\n      <td>2013</td>\n      <td>7899</td>\n    </tr>\n    <tr>\n      <th>14</th>\n      <td>Emma</td>\n      <td>2014</td>\n      <td>7823</td>\n    </tr>\n  </tbody>\n</table>\n</div>"
     },
     "metadata": {},
     "execution_count": 80
    }
   ],
   "source": [
    "def get_top_in_interval(data, begin, stop):\n",
    "    top = list()\n",
    "    # Extract only the year in interest\n",
    "    for year in range(begin, stop+1):\n",
    "        top_in_year =   (data.loc[data[\"Year\"] == year]\n",
    "                         .groupby(by=\"Name\").sum()\n",
    "                         .sort_values(by=\"Count\", ascending=False)\n",
    "                         .assign(Year=year)\n",
    "                         .reset_index()\n",
    "                         .iloc[0]\n",
    "                        )\n",
    "        top.append(top_in_year)\n",
    "\n",
    "    top_in_interval = pd.concat(top, axis=1, ignore_index=True).T\n",
    "    return top_in_interval\n",
    "        \n",
    "get_top_in_interval(s_df, begin=2000, stop=2014)"
   ]
  },
  {
   "source": [
    "## Method from graph (references)\n",
    "\n",
    "- You can find in Rita or Jamie's notebook!"
   ],
   "cell_type": "markdown",
   "metadata": {}
  }
 ],
 "metadata": {
  "kernelspec": {
   "display_name": "Python 3",
   "language": "python",
   "name": "python3"
  },
  "language_info": {
   "codemirror_mode": {
    "name": "ipython",
    "version": 3
   },
   "file_extension": ".py",
   "mimetype": "text/x-python",
   "name": "python",
   "nbconvert_exporter": "python",
   "pygments_lexer": "ipython3",
   "version": "3.8.8-final"
  }
 },
 "nbformat": 4,
 "nbformat_minor": 5
}